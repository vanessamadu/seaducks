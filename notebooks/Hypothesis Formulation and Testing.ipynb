{
 "cells": [
  {
   "cell_type": "markdown",
   "metadata": {},
   "source": [
    "# Hypothesis Formulation and Testing\n",
    "\n",
    "To address my research questions, I will test the following hypotheses:"
   ]
  },
  {
   "cell_type": "code",
   "execution_count": 3,
   "metadata": {},
   "outputs": [],
   "source": [
    "# import modules\n",
    "import numpy as np\n",
    "import pickle\n",
    "import scipy.stats\n",
    "import matplotlib.pyplot as plt\n",
    "\n",
    "# initialisation\n",
    "root_dir = r\"C:\\Users\\vm2218\\OneDrive - Imperial College London\\PhD Project\\seaducks\\experiments\\hpc_runs\"\n",
    "file_name_prefix = \"experiment_\"\n",
    "file_name_suffix = \"_early_stopping_100\"\n",
    "\n",
    "num_reps = 10\n",
    "config_ids = [] # configuration ids of the optimal hyperparameter models\n",
    "replication_ids = {}\n",
    "\n",
    "for index, config_id in enumerate(config_ids):\n",
    "    experimentIDs = np.arange(index*num_reps+1,(index+1)*num_reps+1) # corresponding experiment IDs \n",
    "    replication_ids[config_id] = experimentIDs"
   ]
  },
  {
   "cell_type": "markdown",
   "metadata": {},
   "source": [
    "## Impact of SST Gradient on Surface Current Prediction using MVN NGBoost\n",
    "\n",
    "### Prediction Performance\n",
    "\n",
    "#### 1. Including SST gradient in the MVN NGBoost model improves model prediction performance:\n",
    "\n",
    "##### RMSE\n",
    "\n",
    "Let the random variable, $X$, be the Root Mean Square Error (RMSE) of the MVN NGBoost model evaluated on a test dataset\n",
    "\n",
    "$$\\begin{equation}\n",
    "X = \\sqrt{\\frac{1}{2P} \\sum_{i=1}^2\\sum_{j=1}^P \\left(\\mathbf{u}_i^{(j)} - \\hat{\\mathbf{u}}_i^{(j)}\\right)^2},\\tag{1}\n",
    "\\end{equation}$$\n",
    "\n",
    "where $P$ is the number of samples in the test data, $\\mathbf{u}=(u,v)$, is the actual drifter velocity, and, $\\hat{\\mathbf{u}} = (\\hat{u},\\hat{v})$, is the expected value of the predicted distribution of the drifter velocity.\n",
    "\n",
    "Let $X_{\\nabla SST}$ be the RMSE on the test data for the MVN NGBoost model that uses Sea Surface Temperature (SST) gradients and let $X_0$ be the RMSE on the test data for the MVN NGBoost model that does not. "
   ]
  },
  {
   "cell_type": "code",
   "execution_count": 2,
   "metadata": {},
   "outputs": [],
   "source": [
    "def rmse(vec1,vec2):\n",
    "    return 100*np.sqrt(np.mean(np.square(vec1-vec2))) # m/s -> cm/s"
   ]
  },
  {
   "cell_type": "markdown",
   "metadata": {},
   "source": [
    "##### MAE\n",
    "Let the random variable, $X$, be the Mean Absolute Error (MAE) of the MVN NGBoost model evaluated on a test dataset\n",
    "\n",
    "$$X = \\frac{1}{2P} \\sum_{i=1}^2\\sum_{j=1}^P \\left\\vert\\mathbf{u}_i^{(j)} - \\hat{\\mathbf{u}}_i^{(j)}\\right\\vert,\\tag{2}$$\n",
    "\n",
    "where $P$ is the number of samples in the test data, $\\mathbf{u}=(u,v)$, is the actual drifter velocity, and, $\\hat{\\mathbf{u}} = (\\hat{u},\\hat{v})$, is the expected value of the predicted distribution of the drifter velocity.\n",
    "\n",
    "Let $X_{\\nabla SST}$ be the MAE on the test data for the MVN NGBoost model that uses Sea Surface Temperature (SST) gradients and let $X_0$ be the MAE on the test data for the MVN NGBoost model that does not. "
   ]
  },
  {
   "cell_type": "code",
   "execution_count": 3,
   "metadata": {},
   "outputs": [],
   "source": [
    "def mae(vec1,vec2):\n",
    "    return 100*np.mean(np.abs(vec1-vec2)) # m/s -> cm/s"
   ]
  },
  {
   "cell_type": "markdown",
   "metadata": {},
   "source": [
    "##### MAAO\n",
    "\n",
    "Let the random variable, $X$, be the Mean Absolute Angle Offset (MAAO) of the MVN NGBoost model evaluated on a test dataset\n",
    "\n",
    "$$X = \\frac{1}{P}\\sum_{i=1}^P \\arccos \\left(\\frac{\\mathbf{u}_i\\cdot\\hat{\\mathbf{u}}_i}{|\\mathbf{u}_i||\\hat{\\mathbf{u}}_i|}\\right),\\tag{3}$$\n",
    "\n",
    "where $P$ is the number of samples in the test data, $\\mathbf{u}=(u,v)$, is the actual drifter velocity, and, $\\hat{\\mathbf{u}} = (\\hat{u},\\hat{v})$, is the expected value of the predicted distribution of the drifter velocity.\n",
    "\n",
    "Let $X_{\\nabla SST}$ be the MAAO on the test data for the MVN NGBoost model that uses Sea Surface Temperature (SST) gradients and let $X_0$ be the MAAO on the test data for the MVN NGBoost model that does not. \n",
    "\n"
   ]
  },
  {
   "cell_type": "code",
   "execution_count": 42,
   "metadata": {},
   "outputs": [],
   "source": [
    "def maao(vec1,vec2):\n",
    "    elem_wise_dot_product = np.einsum('ij,ij->i',vec1,vec2)\n",
    "    normalisation = np.linalg.norm(vec1,axis=1)*np.linalg.norm(vec2,axis=1)\n",
    "    return np.arccos(np.clip(\n",
    "        elem_wise_dot_product/normalisation,\n",
    "        -1,1\n",
    "    ))"
   ]
  },
  {
   "cell_type": "markdown",
   "metadata": {},
   "source": [
    "\n",
    "##### MAPE\n",
    "\n",
    "Let the random variable, $X$, be the Mean Absolute Percentage Error (MAPE) of the MVN NGBoost model evaluated on a test dataset\n",
    "\n",
    "$$X = \\frac{100}{2P} \\sum_{i=1}^2\\sum_{j=1}^P \\left\\vert\\frac{\\mathbf{u}_i^{(j)} - \\hat{\\mathbf{u}}_i^{(j)}}{\\mathbf{u}_i^{(j)}}\\right\\vert, \\tag{4}$$\n",
    "\n",
    "where $P$ is the number of samples in the test data, $\\mathbf{u}=(u,v)$, is the actual drifter velocity, and, $\\hat{\\mathbf{u}} = (\\hat{u},\\hat{v})$, is the expected value of the predicted distribution of the drifter velocity.\n",
    "\n",
    "Let $X_{\\nabla SST}$ be the MAPE on the test data for the MVN NGBoost model that uses Sea Surface Temperature (SST) gradients and let $X_0$ be the MAPE on the test data for the MVN NGBoost model that does not. "
   ]
  },
  {
   "cell_type": "code",
   "execution_count": 43,
   "metadata": {},
   "outputs": [],
   "source": [
    "def mape(true,pred):\n",
    "    return 100*np.mean(np.abs((\n",
    "        true-pred\n",
    "    )/true))"
   ]
  },
  {
   "cell_type": "markdown",
   "metadata": {},
   "source": [
    "##### RMSLE\n",
    "\n",
    "Let the random variable, $X$, be the Root Mean Square Logarithmic Error (RMSLE) of the MVN NGBoost model evaluated on a test dataset\n",
    "\n",
    "$$X = \\sqrt{\\frac{1}{2P} \\sum_{i=1}^2\\sum_{j=1}^P \\left[\\ln(1 +\\mathbf{u}_i^{(j)}) - \\ln(1+\\hat{\\mathbf{u}}_i^{(j)})\\right]^2}, \\tag{5}$$\n",
    "\n",
    "where $P$ is the number of samples in the test data, $\\mathbf{u}=(u,v)$, is the actual drifter velocity, and, $\\hat{\\mathbf{u}} = (\\hat{u},\\hat{v})$, is the expected value of the predicted distribution of the drifter velocity.\n",
    "\n",
    "Let $X_{\\nabla SST}$ be the RMSLE on the test data for the MVN NGBoost model that uses Sea Surface Temperature (SST) gradients and let $X_0$ be the RMSLE on the test data for the MVN NGBoost model that does not. "
   ]
  },
  {
   "cell_type": "code",
   "execution_count": null,
   "metadata": {},
   "outputs": [],
   "source": [
    "def rmsle(vec1,vec2):\n",
    "    return np.sqrt(np.mean(np.square(\n",
    "        np.log(1+vec1)-np.log(1+vec2)\n",
    "        )))"
   ]
  },
  {
   "cell_type": "markdown",
   "metadata": {},
   "source": [
    "Obtain the samples $X_{\\nabla SST}^{(1)}, \\dots, X_{\\nabla SST}^{(N)}$ and $X_{0}^{(1)}, \\dots, X_{0}^{(N)}$  where $N=100$."
   ]
  },
  {
   "cell_type": "code",
   "execution_count": null,
   "metadata": {},
   "outputs": [],
   "source": [
    "# load appropriate data and obtain samples\n",
    "metric = None   # error metric defining the random variable\n",
    "SST_grad_config_ID = None\n",
    "no_SST_grad_config_ID = None\n",
    "\n",
    "X_SST_grad = []\n",
    "X_0 = []\n",
    "\n",
    "for ii in range(num_reps):\n",
    "    #load data (with SST gradient)\n",
    "    with open(fr'{root_dir}/{file_name_prefix}{replication_ids[SST_grad_config_ID][ii]}.p', 'rb') as pickle_file:\n",
    "        model_sst_grad = pickle.load(pickle_file)\n",
    "    with open(fr'{root_dir}/{file_name_prefix}{replication_ids[SST_grad_config_ID][ii]}test_data.p', 'rb') as pickle_file:\n",
    "        test_data_sst_grad = pickle.load(pickle_file)\n",
    "    # load data (without SST gradient)\n",
    "    with open(fr'{root_dir}/{file_name_prefix}{replication_ids[no_SST_grad_config_ID][ii]}.p', 'rb') as pickle_file:\n",
    "        model_no_sst_grad = pickle.load(pickle_file)\n",
    "    with open(fr'{root_dir}/{file_name_prefix}{replication_ids[no_SST_grad_config_ID][ii]}test_data.p', 'rb') as pickle_file:\n",
    "        test_data_no_sst_grad = pickle.load(pickle_file)  \n",
    "\n",
    "    # get prediction distribution and test data\n",
    "    \n",
    "    predicted_distribution_SST, predicted_distribution_no_SST = test_data_sst_grad[1], test_data_no_sst_grad[1]\n",
    "    testing_data_SST, testing_data_no_SST = test_data_sst_grad[0], test_data_no_sst_grad[0]\n",
    "    \n",
    "    locs_sst, covs_sst = predicted_distribution_SST\n",
    "    locs_no_sst, covs_no_sst = predicted_distribution_no_SST\n",
    "\n",
    "    testing_data_SST.loc[:,'mvn_ngb_prediction_u'] = locs_sst[:,0]\n",
    "    testing_data_SST.loc[:,'mvn_ngb_prediction_v'] = locs_sst[:,1]\n",
    "\n",
    "    testing_data_no_SST.loc[:,'mvn_ngb_prediction_u'] = locs_no_sst[:,0]\n",
    "    testing_data_no_SST.loc[:,'mvn_ngb_prediction_v'] = locs_no_sst[:,1]\n",
    "\n",
    "    # add realistion to sample lists\n",
    "    X_SST_grad.append(metric(np.array(testing_data_SST[['u','v']]),np.array(testing_data_SST[['mvn_ngb_prediction_u','mvn_ngb_prediction_v']])))\n",
    "    X_0.append(metric(np.array(testing_data_no_SST[['u','v']]),np.array(testing_data_no_SST[['mvn_ngb_prediction_u','mvn_ngb_prediction_v']])))\n"
   ]
  },
  {
   "cell_type": "markdown",
   "metadata": {},
   "source": [
    "##### Formulate One-Sided Two-Sample t-test\n",
    "100 replications of MVN NGBoost fitting with different random seeds for each replication so that each replication is *independent*.\n",
    "\n",
    "**Checking Normality: D'Agostino-Pearson test for normality**\n",
    "\n",
    "Significance level: $\\alpha = 0.05$"
   ]
  },
  {
   "cell_type": "code",
   "execution_count": 44,
   "metadata": {},
   "outputs": [],
   "source": [
    "# check samples are normally distributed\n",
    "alpha = 0.05\n",
    "\n",
    "_, p_sst = scipy.stats.normaltest(X_SST_grad)\n",
    "_, p_0 = scipy.stats.normaltest(X_0)\n",
    "\n",
    "test_pairs = [['X_SST_grad',p_sst],['X_0',p_0]]\n",
    "for pair in test_pairs:\n",
    "    if pair[1] < alpha:\n",
    "        print(f\"\\n{pair[0]} does not follow a normal distribution.\")\n",
    "    else:\n",
    "        print(f\"\\n{pair[0]} follows a normal distribution.\")"
   ]
  },
  {
   "cell_type": "markdown",
   "metadata": {},
   "source": [
    "One-sided two-sample $t$-test:\n",
    "\n",
    "Let $\\mu_{\\nabla SST} = \\frac{1}{N}\\sum_{n=1}^N X_{\\nabla SST}^{(n)}$, $\\mu_0 = \\frac{1}{N}\\sum_{n=1}^N X_{0}^{(n)}$ be the sample means of $X_{\\nabla SST}^{(1)}, \\dots, X_{\\nabla SST}^{(N)}$ and $X_{0}^{(1)}, \\dots, X_{0}^{(N)}$  where $N=100$, respectively.\n",
    "\n",
    "$H_0$: $\\mu_{\\nabla SST}$ < $\\mu_0$.\n",
    "\n",
    "$H_1$: $\\mu_{\\nabla SST} \\geq \\mu_0$.\n",
    "\n",
    "Test statistic: $t = \\frac{\\mu_{\\nabla SST} - \\mu_{0}}{\\sqrt{s^2_{\\nabla SST}/N - s_0^2/N}}$ with $2(N-1)$ degrees of freedom."
   ]
  },
  {
   "cell_type": "code",
   "execution_count": null,
   "metadata": {},
   "outputs": [],
   "source": [
    "# set up for t-statistic\n",
    "mean_sst, mean0 = np.mean(X_SST_grad), np.mean(X_0)\n",
    "std_sst, std_0 = np.std(X_SST_grad, ddof=1), np.std(X_0, ddof=1)\n",
    "N = num_reps\n",
    "ste = np.sqrt(np.sqrt(std_sst**2/N + std_0**2/N))\n",
    "\n",
    "# scipy\n",
    "t_stat, p = scipy.stats.ttest_ind(X_SST_grad, X_0, alternative = 'less')\n",
    "\n",
    "# parameters for plot t-distribution\n",
    "x = np.linspace(-4, 4, 1000) # range for t-distribution\n",
    "t_dist = scipy.stats.t.pdf(x, df = 2*(N-1)) # pdf for t-distribution\n",
    "\n",
    "# plot t-distribution\n",
    "plt.plot(x, t_dist, label = f\"t-distribution (df = {2(N-1)})\")\n",
    "plt.axvline(t_stat, color = \"red\", linestyle = \"--\", label = f\"T statistic = {t_stat:.2f}\")\n",
    "plt.axvline(-t_stat, color = \"red\", linestyle = \"--\")\n",
    "plt.fill_between(x, t_dist, where = (x >= abs(t_stat)), color = \"red\", alpha = 0.3, label = \"Rejection Region (one side)\")\n",
    "plt.fill_between(x, t_dist, where = (x <= -abs(t_stat)), color = \"red\", alpha = 0.3)\n",
    "plt.title(\"t-distribution and observed t statistic\")\n",
    "plt.xlabel(\"t value\")\n",
    "plt.ylabel(\"Density\")\n",
    "plt.legend()\n",
    "plt.show()\n",
    "\n",
    "# interpret result (significance level 0.05)\n",
    "alpha = 0.05\n",
    "if p < alpha:\n",
    "    print(\"Reject H0: mu_SST >= mu_0\")\n",
    "else:\n",
    "    print(\"Fail to Reject H0: mu_SST < mu_0\")"
   ]
  },
  {
   "cell_type": "markdown",
   "metadata": {},
   "source": [
    "### Uncertainty Reduction\n",
    "\n",
    "2. Including SST gradient in the MVN NGBoost model reduces the variance of:\n",
    "- RMSE\n",
    "- MAE\n",
    "- MAAO\n",
    "- MAPE\n",
    "\n",
    "3. Including SST Gradient in the MVN NGBoost model reduces the area of the prediction region."
   ]
  },
  {
   "cell_type": "markdown",
   "metadata": {},
   "source": [
    "### Goodness of Fit\n",
    "4. Including SST gradient in MVN NGBoost improves fit of the model to the data in:\n",
    "- NLL\n",
    "- $\\chi^2$\n",
    "- Prediction region coverage"
   ]
  },
  {
   "cell_type": "markdown",
   "metadata": {},
   "source": [
    "### SST Gradient as Physical Phenomena\n",
    "\n",
    "5. SST gradients are significant features for explaining the variance of the MVN NGBoost parameters.\n",
    "\n",
    "6. SST gradients improve prediction significantly in the Gulf Stream and Labrador Current regions.\n"
   ]
  },
  {
   "cell_type": "markdown",
   "metadata": {},
   "source": [
    "### Polar Form\n",
    "\n",
    "Including the velocities in polar form does all the above things"
   ]
  },
  {
   "cell_type": "markdown",
   "metadata": {},
   "source": [
    "## The SeaDucks Implementation\n",
    "\n",
    "7. The SeaDucks implementation of MVN NGBoost improves upon the model presented by O'Malley et al. (2023) on the mean of:\n",
    "- RMSE\n",
    "- NLL\n",
    "- Prediction Region Area\n",
    "- Prediction Region Coverage\n",
    "\n",
    "8. The SeaDucks implementation of MVN NGBoost improves upon the model presented by O'Malley et al. (2023) on the variance of:\n",
    "- RMSE\n",
    "- NLL\n",
    "- Prediction Region Area\n",
    "- Prediction Region Coverage\n"
   ]
  },
  {
   "cell_type": "markdown",
   "metadata": {},
   "source": [
    "## Observations about the MVN NGBoost Model\n",
    "\n",
    "9. Increasing the number of training points increases the model's reliance on (lat, lon, time) and decreases the reliance on physical features.\n",
    "\n",
    "10. There is seasonal variation in the performance of MVN NGBoost.\n",
    "\n",
    "11. The model residuals are normally distributed\n",
    "- RMSE\n",
    "- MAE\n",
    "- MAAO\n",
    "- MAPE\n",
    "\n",
    "12. There are clusters of regions that perform poorly in the following metrics:\n",
    "- RMSE\n",
    "- MAE\n",
    "- MAAO\n",
    "- MAPE"
   ]
  },
  {
   "cell_type": "markdown",
   "metadata": {},
   "source": [
    "## Mean Absolute Angle Offset\n",
    "\n",
    "13. MAAO gives us more information about improvements in direction prediction than RMSE."
   ]
  }
 ],
 "metadata": {
  "kernelspec": {
   "display_name": "SeaDucks",
   "language": "python",
   "name": "python3"
  },
  "language_info": {
   "codemirror_mode": {
    "name": "ipython",
    "version": 3
   },
   "file_extension": ".py",
   "mimetype": "text/x-python",
   "name": "python",
   "nbconvert_exporter": "python",
   "pygments_lexer": "ipython3",
   "version": "3.12.3"
  }
 },
 "nbformat": 4,
 "nbformat_minor": 2
}
