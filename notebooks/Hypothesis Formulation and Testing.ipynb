{
 "cells": [
  {
   "cell_type": "markdown",
   "metadata": {},
   "source": [
    "# Hypothesis Formulation and Testing\n",
    "\n",
    "To address my research questions, I will test the following hypotheses:"
   ]
  },
  {
   "cell_type": "code",
   "execution_count": 1,
   "metadata": {},
   "outputs": [],
   "source": [
    "# import modules\n",
    "import numpy as np\n",
    "\n",
    "# import models\n"
   ]
  },
  {
   "cell_type": "markdown",
   "metadata": {},
   "source": [
    "## Impact of SST Gradient on Surface Current Prediction using MVN NGBoost\n",
    "\n",
    "### Prediction Performance\n",
    "\n",
    "#### 1. Including SST gradient in the MVN NGBoost model improves model prediction performance:\n",
    "\n",
    "##### RMSE\n",
    "\n",
    "Let the random variable, $X$, be the Root Mean Square Error (RMSE) of the MVN NGBoost model evaluated on a test dataset\n",
    "\n",
    "$$X = \\sqrt{\\frac{1}{2P} \\sum_{i=1}^2\\sum_{j=1}^P \\left(\\mathbf{u}_i^{(j)} - \\hat{\\mathbf{u}}_i^{(j)}\\right)^2},$$\n",
    "\n",
    "where $P$ is the number of samples in the test data, $\\mathbf{u}=(u,v)$, is the actual drifter velocity, and, $\\hat{\\mathbf{u}} = (\\hat{u},\\hat{v})$, is the expected value of the predicted distribution of the drifter velocity.\n",
    "\n",
    "Let $X_{\\nabla SST}$ be the RMSE on the test data for the MVN NGBoost model that uses Sea Surface Temperature (SST) gradients and let $X_0$ be the RMSE on the test data for the MVN NGBoost model that does not. "
   ]
  },
  {
   "cell_type": "code",
   "execution_count": 2,
   "metadata": {},
   "outputs": [],
   "source": [
    "def rmse(vec1,vec2):\n",
    "    return 100*np.sqrt(np.mean(np.square(vec1-vec2))) # m/s -> cm/s"
   ]
  },
  {
   "cell_type": "markdown",
   "metadata": {},
   "source": [
    "##### MAE\n",
    "Let the random variable, $X$, be the Mean Absolute Error (MAE) of the MVN NGBoost model evaluated on a test dataset\n",
    "\n",
    "$$X = \\frac{1}{2P} \\sum_{i=1}^2\\sum_{j=1}^P \\left\\vert\\mathbf{u}_i^{(j)} - \\hat{\\mathbf{u}}_i^{(j)}\\right\\vert,$$\n",
    "\n",
    "where $P$ is the number of samples in the test data, $\\mathbf{u}=(u,v)$, is the actual drifter velocity, and, $\\hat{\\mathbf{u}} = (\\hat{u},\\hat{v})$, is the expected value of the predicted distribution of the drifter velocity.\n",
    "\n",
    "Let $X_{\\nabla SST}$ be the MAE on the test data for the MVN NGBoost model that uses Sea Surface Temperature (SST) gradients and let $X_0$ be the MAE on the test data for the MVN NGBoost model that does not. "
   ]
  },
  {
   "cell_type": "code",
   "execution_count": 3,
   "metadata": {},
   "outputs": [],
   "source": [
    "def mae(vec1,vec2):\n",
    "    return 100*np.mean(np.abs(vec1-vec2)) # m/s -> cm/s"
   ]
  },
  {
   "cell_type": "markdown",
   "metadata": {},
   "source": [
    "##### MAAO\n",
    "\n",
    "Let the random variable, $X$, be the Mean Absolute Angle Offset (MAAO) of the MVN NGBoost model evaluated on a test dataset\n",
    "\n",
    "$$X = \\frac{1}{P}\\sum_{i=1}^P \\arccos \\left(\\frac{\\mathbf{u}_i\\cdot\\hat{\\mathbf{u}}_i}{|\\mathbf{u}_i||\\hat{\\mathbf{u}}_i|}\\right),$$\n",
    "\n",
    "where $P$ is the number of samples in the test data, $\\mathbf{u}=(u,v)$, is the actual drifter velocity, and, $\\hat{\\mathbf{u}} = (\\hat{u},\\hat{v})$, is the expected value of the predicted distribution of the drifter velocity.\n",
    "\n",
    "Let $X_{\\nabla SST}$ be the MAAO on the test data for the MVN NGBoost model that uses Sea Surface Temperature (SST) gradients and let $X_0$ be the MAAO on the test data for the MVN NGBoost model that does not. \n",
    "\n"
   ]
  },
  {
   "cell_type": "code",
   "execution_count": 42,
   "metadata": {},
   "outputs": [],
   "source": [
    "def maao(vec1,vec2):\n",
    "    elem_wise_dot_product = np.einsum('ij,ij->i',vec1,vec2)\n",
    "    normalisation = np.linalg.norm(vec1,axis=1)*np.linalg.norm(vec2,axis=1)\n",
    "    return np.arccos(np.clip(\n",
    "        elem_wise_dot_product/normalisation,\n",
    "        -1,1\n",
    "    ))"
   ]
  },
  {
   "cell_type": "markdown",
   "metadata": {},
   "source": [
    "\n",
    "##### MAPE\n",
    "\n",
    "Let the random variable, $X$, be the Mean Absolute Percentage Error (MAPE) of the MVN NGBoost model evaluated on a test dataset\n",
    "\n",
    "$$X = \\frac{100}{2P} \\sum_{i=1}^2\\sum_{j=1}^P \\left\\vert\\frac{\\mathbf{u}_i^{(j)} - \\hat{\\mathbf{u}}_i^{(j)}}{\\mathbf{u}_i^{(j)}}\\right\\vert,$$\n",
    "\n",
    "where $P$ is the number of samples in the test data, $\\mathbf{u}=(u,v)$, is the actual drifter velocity, and, $\\hat{\\mathbf{u}} = (\\hat{u},\\hat{v})$, is the expected value of the predicted distribution of the drifter velocity.\n",
    "\n",
    "Let $X_{\\nabla SST}$ be the MAPE on the test data for the MVN NGBoost model that uses Sea Surface Temperature (SST) gradients and let $X_0$ be the MAPE on the test data for the MVN NGBoost model that does not. "
   ]
  },
  {
   "cell_type": "code",
   "execution_count": 43,
   "metadata": {},
   "outputs": [],
   "source": [
    "def mape(true,pred):\n",
    "    return 100*np.mean(np.abs((\n",
    "        true-pred\n",
    "    )/true))"
   ]
  },
  {
   "cell_type": "markdown",
   "metadata": {},
   "source": [
    "##### RMSLE\n",
    "\n",
    "Let the random variable, $X$, be the Root Mean Square Logarithmic Error (RMSLE) of the MVN NGBoost model evaluated on a test dataset\n",
    "\n",
    "$$X = \\sqrt{\\frac{1}{2P} \\sum_{i=1}^2\\sum_{j=1}^P \\left[\\ln(1 +\\mathbf{u}_i^{(j)}) - \\ln(1+\\hat{\\mathbf{u}}_i^{(j)})\\right]^2},$$\n",
    "\n",
    "where $P$ is the number of samples in the test data, $\\mathbf{u}=(u,v)$, is the actual drifter velocity, and, $\\hat{\\mathbf{u}} = (\\hat{u},\\hat{v})$, is the expected value of the predicted distribution of the drifter velocity.\n",
    "\n",
    "Let $X_{\\nabla SST}$ be the RMSLE on the test data for the MVN NGBoost model that uses Sea Surface Temperature (SST) gradients and let $X_0$ be the RMSLE on the test data for the MVN NGBoost model that does not. "
   ]
  },
  {
   "cell_type": "code",
   "execution_count": null,
   "metadata": {},
   "outputs": [],
   "source": [
    "def rmsle(vec1,vec2):\n",
    "    return np.sqrt(np.mean(np.square(\n",
    "        np.log(1+vec1)-np.log(1+vec2)\n",
    "        )))"
   ]
  },
  {
   "cell_type": "markdown",
   "metadata": {},
   "source": [
    "##### Formulate One-Sided Two-Sample t-test\n",
    "100 replications of MVN NGBoost fitting with different random seeds for each replication so that each replication is *independent*.\n",
    "\n",
    "Checking Normality:"
   ]
  },
  {
   "cell_type": "code",
   "execution_count": 44,
   "metadata": {},
   "outputs": [],
   "source": [
    "# check samples are normally distributed"
   ]
  },
  {
   "cell_type": "markdown",
   "metadata": {},
   "source": [
    "Let $\\mu_{\\nabla SST} = \\frac{1}{N}\\sum_{n=1}^N X_{\\nabla SST}^{(n)}$, $\\mu_0 = \\frac{1}{N}\\sum_{n=1}^N X_{0}^{(n)}$ be the sample means of $X_{\\nabla SST}^{(1)}, \\dots, X_{\\nabla SST}^{(N)}$ and $X_{0}^{(1)}, \\dots, X_{0}^{(N)}$  where $N=100$, respectively.\n",
    "\n",
    "$H_0$: $\\mu_{\\nabla SST}$ < $\\mu_0$.\n",
    "\n",
    "$H_1$: $\\mu_{\\nabla SST} \\geq \\mu_0$."
   ]
  },
  {
   "cell_type": "markdown",
   "metadata": {},
   "source": [
    "### Uncertainty Reduction\n",
    "\n",
    "2. Including SST gradient in the MVN NGBoost model reduces the variance of:\n",
    "- RMSE\n",
    "- MAE\n",
    "- MAAO\n",
    "- MAPE\n",
    "\n",
    "3. Including SST Gradient in the MVN NGBoost model reduces the area of the prediction region."
   ]
  },
  {
   "cell_type": "markdown",
   "metadata": {},
   "source": [
    "### Goodness of Fit\n",
    "4. Including SST gradient in MVN NGBoost improves fit of the model to the data in:\n",
    "- NLL\n",
    "- $\\chi^2$\n",
    "- Prediction region coverage"
   ]
  },
  {
   "cell_type": "markdown",
   "metadata": {},
   "source": [
    "### SST Gradient as Physical Phenomena\n",
    "\n",
    "5. SST gradients are significant features for explaining the variance of the MVN NGBoost parameters.\n",
    "\n",
    "6. SST gradients improve prediction significantly in the Gulf Stream and Labrador Current regions.\n"
   ]
  },
  {
   "cell_type": "markdown",
   "metadata": {},
   "source": [
    "### Polar Form\n",
    "\n",
    "Including the velocities in polar form does all the above things"
   ]
  },
  {
   "cell_type": "markdown",
   "metadata": {},
   "source": [
    "## The SeaDucks Implementation\n",
    "\n",
    "7. The SeaDucks implementation of MVN NGBoost improves upon the model presented by O'Malley et al. (2023) on the mean of:\n",
    "- RMSE\n",
    "- NLL\n",
    "- Prediction Region Area\n",
    "- Prediction Region Coverage\n",
    "\n",
    "8. The SeaDucks implementation of MVN NGBoost improves upon the model presented by O'Malley et al. (2023) on the variance of:\n",
    "- RMSE\n",
    "- NLL\n",
    "- Prediction Region Area\n",
    "- Prediction Region Coverage\n"
   ]
  },
  {
   "cell_type": "markdown",
   "metadata": {},
   "source": [
    "## Observations about the MVN NGBoost Model\n",
    "\n",
    "9. Increasing the number of training points increases the model's reliance on (lat, lon, time) and decreases the reliance on physical features.\n",
    "\n",
    "10. There is seasonal variation in the performance of MVN NGBoost.\n",
    "\n",
    "11. The model residuals are normally distributed\n",
    "- RMSE\n",
    "- MAE\n",
    "- MAAO\n",
    "- MAPE\n",
    "\n",
    "12. There are clusters of regions that perform poorly in the following metrics:\n",
    "- RMSE\n",
    "- MAE\n",
    "- MAAO\n",
    "- MAPE"
   ]
  },
  {
   "cell_type": "markdown",
   "metadata": {},
   "source": [
    "## Mean Absolute Angle Offset\n",
    "\n",
    "13. MAAO gives us more information about improvements in direction prediction than RMSE."
   ]
  }
 ],
 "metadata": {
  "kernelspec": {
   "display_name": "SeaDucks",
   "language": "python",
   "name": "python3"
  },
  "language_info": {
   "codemirror_mode": {
    "name": "ipython",
    "version": 3
   },
   "file_extension": ".py",
   "mimetype": "text/x-python",
   "name": "python",
   "nbconvert_exporter": "python",
   "pygments_lexer": "ipython3",
   "version": "3.12.3"
  }
 },
 "nbformat": 4,
 "nbformat_minor": 2
}
