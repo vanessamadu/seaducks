{
 "cells": [
  {
   "cell_type": "markdown",
   "metadata": {},
   "source": [
    "# Hypothesis Formulation and Testing\n",
    "\n",
    "To address my research questions, I will test the following hypotheses:"
   ]
  },
  {
   "cell_type": "markdown",
   "metadata": {},
   "source": [
    "## Impact of SST Gradient on Surface Current Prediction using MVN NGBoost\n",
    "\n",
    "### Prediction Performance\n",
    "\n",
    "1. Including SST gradient in the MVN NGBoost model reduces the mean of:\n",
    "- RMSE\n",
    "- MAE\n",
    "- MAAO\n",
    "- MAPE"
   ]
  },
  {
   "cell_type": "markdown",
   "metadata": {},
   "source": [
    "### Uncertainty Reduction\n",
    "\n",
    "2. Including SST gradient in the MVN NGBoost model reduces the variance of:\n",
    "- RMSE\n",
    "- MAE\n",
    "- MAAO\n",
    "- MAPE\n",
    "\n",
    "3. Including SST Gradient in the MVN NGBoost model reduces the area of the prediction region."
   ]
  },
  {
   "cell_type": "markdown",
   "metadata": {},
   "source": [
    "### Goodness of Fit\n",
    "4. Including SST gradient in MVN NGBoost improves fit of the model to the data in:\n",
    "- NLL\n",
    "- $\\chi^2$\n",
    "- Prediction region coverage"
   ]
  },
  {
   "cell_type": "markdown",
   "metadata": {},
   "source": [
    "### SST Gradient as Physical Phenomena\n",
    "\n",
    "5. SST gradients are significant features for explaining the variance of the MVN NGBoost parameters.\n",
    "\n",
    "6. SST gradients improve prediction significantly in the Gulf Stream and Labrador Current regions.\n"
   ]
  },
  {
   "cell_type": "markdown",
   "metadata": {},
   "source": []
  }
 ],
 "metadata": {
  "language_info": {
   "name": "python"
  }
 },
 "nbformat": 4,
 "nbformat_minor": 2
}
