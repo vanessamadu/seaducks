{
 "cells": [
  {
   "cell_type": "markdown",
   "metadata": {},
   "source": [
    "# Using Multivariate Gaussian NGBoost (MVN NGBoost)\n",
    "\n",
    "This notebook outlines simple modelling tasks using MVN NGBoost for predicting drifting buoy velocities from satellite-derived explanatory variables. This notebook draws upon [O'Malley et al. 2023](https://www.cambridge.org/core/journals/environmental-data-science/article/probabilistic-prediction-of-oceanographic-velocities-with-multivariate-gaussian-natural-gradient-boosting/F26F2BD51213758208B0EBAE51D1A973#article) and the supplementary materials they have provided."
   ]
  },
  {
   "cell_type": "code",
   "execution_count": 1,
   "metadata": {},
   "outputs": [],
   "source": [
    "# import packages\n",
    "import pandas as pd\n",
    "import ngboost"
   ]
  },
  {
   "cell_type": "code",
   "execution_count": 3,
   "metadata": {},
   "outputs": [],
   "source": [
    "# load data\n",
    "path_to_data = '../data/filtered_nao_drifters_with_sst_gradient.h5'\n",
    "data = pd.read_hdf(path_to_data)\n",
    "# add day of the year as an index (to be added to the data later)\n",
    "data['day_of_year'] = data['time'].apply(lambda t : t.timetuple().tm_yday)\n",
    "\n",
    "# separate into explanatory and response variables\n",
    "explanatory_var_labels = ['u_av','v_av','lat','lon','day_of_year','Wx','Wy','Tx','Ty','sst_x_derivative','sst_y_derivative']\n",
    "response_var_labels = ['u','v']\n",
    "\n",
    "explanatory_vars = data[explanatory_var_labels]\n",
    "response_vars = data[response_var_labels]"
   ]
  },
  {
   "cell_type": "markdown",
   "metadata": {},
   "source": [
    "## Training, Cross-Validation, and Testing\n",
    "\n",
    "To do:\n",
    "* Explain what each of these terms mean and why we are doing them.\n",
    "* Decide on the train-test-cross validation split\n",
    "* Explain that this split must also apply for each drifter and explain why\n",
    "* Include a sketch implementation of how this might be done."
   ]
  },
  {
   "cell_type": "code",
   "execution_count": null,
   "metadata": {},
   "outputs": [],
   "source": []
  },
  {
   "cell_type": "markdown",
   "metadata": {},
   "source": [
    "## The MVN NGBoost Model\n",
    "\n",
    "Include an explainer here as to how the model works."
   ]
  },
  {
   "cell_type": "code",
   "execution_count": 25,
   "metadata": {},
   "outputs": [
    {
     "name": "stdout",
     "output_type": "stream",
     "text": [
      "[iter 0] loss=0.0386 val_loss=0.0000 scale=0.5000 norm=1.5508\n"
     ]
    },
    {
     "data": {
      "text/plain": [
       "<ngboost.ngboost.NGBoost at 0x190ca651ca0>"
      ]
     },
     "execution_count": 25,
     "metadata": {},
     "output_type": "execute_result"
    }
   ],
   "source": [
    "import ngboost.distns\n",
    "\n",
    "multivariate_ngboost = ngboost.NGBoost(Dist=ngboost.distns.MultivariateNormal(2),n_estimators=15)\n",
    "# fit the model\n",
    "multivariate_ngboost.fit(X = explanatory_vars, Y = response_vars)"
   ]
  },
  {
   "cell_type": "code",
   "execution_count": 26,
   "metadata": {},
   "outputs": [],
   "source": [
    "# get predictive distribution for each \n",
    "predicted_distribution = multivariate_ngboost.pred_dist(explanatory_vars)"
   ]
  },
  {
   "cell_type": "code",
   "execution_count": 27,
   "metadata": {},
   "outputs": [
    {
     "data": {
      "text/plain": [
       "0.23382208583662384"
      ]
     },
     "execution_count": 27,
     "metadata": {},
     "output_type": "execute_result"
    }
   ],
   "source": [
    "import numpy as np\n",
    "\n",
    "point_predictions = [point for point in predicted_distribution.loc]\n",
    "np.sqrt(np.mean(np.square(np.array(response_vars)-point_predictions)))"
   ]
  }
 ],
 "metadata": {
  "kernelspec": {
   "display_name": "NGBoost",
   "language": "python",
   "name": "python3"
  },
  "language_info": {
   "codemirror_mode": {
    "name": "ipython",
    "version": 3
   },
   "file_extension": ".py",
   "mimetype": "text/x-python",
   "name": "python",
   "nbconvert_exporter": "python",
   "pygments_lexer": "ipython3",
   "version": "3.12.8"
  }
 },
 "nbformat": 4,
 "nbformat_minor": 2
}
