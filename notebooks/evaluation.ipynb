{
 "cells": [
  {
   "cell_type": "code",
   "execution_count": 141,
   "metadata": {},
   "outputs": [],
   "source": [
    "# import modules\n",
    "import numpy as np\n",
    "import pickle\n",
    "import pandas as pd\n",
    "from scipy.stats import norm"
   ]
  },
  {
   "cell_type": "code",
   "execution_count": 39,
   "metadata": {},
   "outputs": [],
   "source": [
    "# initialisation (indexing for model retrieval)\n",
    "num_reps = 100\n",
    "config_ids = [36,37,38,39] # configuration ids of the optimal hyperparameter models\n",
    "replication_ids = {}\n",
    "failed_experiment_IDs = []\n",
    "\n",
    "for index, config_id in enumerate(config_ids):\n",
    "    experimentIDs = np.arange(index*num_reps+1,(index+1)*num_reps+1) # corresponding experiment IDs \n",
    "    # removing experiments that didn't run successfully\n",
    "    experimentIDs = np.delete(experimentIDs,failed_experiment_IDs)\n",
    "    replication_ids[config_id] = experimentIDs"
   ]
  },
  {
   "cell_type": "code",
   "execution_count": 40,
   "metadata": {},
   "outputs": [],
   "source": [
    "# load appropriate data and obtain samples\n",
    "\n",
    "# initialisation\n",
    "date = '2025-02-04'\n",
    "early_stopping = 100\n",
    "root_dir = r\"C:\\Users\\vm2218\\OneDrive - Imperial College London\\PhD Project\\seaducks\\experiments\\hpc_runs\\04-02-2025\\model_test_data\"\n",
    "root_dir_model = r\"C:\\Users\\vm2218\\OneDrive - Imperial College London\\PhD Project\\seaducks\\experiments\\hpc_runs\\04-02-2025\\fit_models\"\n",
    "file_name_prefix = \"long_experiment_\"\n",
    "file_name_suffix = f\"_date_{date}_early_stopping_{early_stopping}\""
   ]
  },
  {
   "cell_type": "code",
   "execution_count": 41,
   "metadata": {},
   "outputs": [],
   "source": [
    "return_variables = ['lon','lat','id','time','u','v','config_id','replication_id','mu_1','mu_2','sigma_11','sigma_22','sigma_12']\n",
    "testing_data = pd.DataFrame(columns=return_variables)"
   ]
  },
  {
   "cell_type": "code",
   "execution_count": 42,
   "metadata": {},
   "outputs": [
    {
     "name": "stderr",
     "output_type": "stream",
     "text": [
      "C:\\Users\\vm2218\\AppData\\Local\\Temp\\ipykernel_26340\\2865588473.py:14: FutureWarning: The behavior of DataFrame concatenation with empty or all-NA entries is deprecated. In a future version, this will no longer exclude empty or all-NA columns when determining the result dtypes. To retain the old behavior, exclude the relevant entries before the concat operation.\n",
      "  testing_data = pd.concat([testing_data,outvars],ignore_index=True)\n"
     ]
    }
   ],
   "source": [
    "for config_id in config_ids:\n",
    "    for ii in range(num_reps):\n",
    "        with open(fr'{root_dir}/{file_name_prefix}{replication_ids[config_id][ii]}{file_name_suffix}_test_data.p', 'rb') as pickle_file:\n",
    "                    data = pickle.load(pickle_file)\n",
    "                    data_df = data[0]\n",
    "                    means = data[1][0]\n",
    "                    covs = data[1][1]\n",
    "                    # adding info\n",
    "                    data_df['config_id'] = config_id\n",
    "                    data_df['replication_id'] = ii\n",
    "                    data_df['mu_1'], data_df['mu_2'] = means[:,0] , means[:,1] \n",
    "                    data_df['sigma_11'], data_df['sigma_22'], data_df['sigma_12'] = covs[:,0,0], covs[:,1,1], covs[:,0,1]\n",
    "                    outvars = data_df[return_variables]\n",
    "                    testing_data = pd.concat([testing_data,outvars],ignore_index=True)"
   ]
  },
  {
   "cell_type": "code",
   "execution_count": 43,
   "metadata": {},
   "outputs": [],
   "source": [
    "# add residuals\n",
    "testing_data['e_1'] = testing_data['u']-testing_data['mu_1']\n",
    "testing_data['e_2'] = testing_data['v']-testing_data['mu_2']"
   ]
  },
  {
   "cell_type": "code",
   "execution_count": 44,
   "metadata": {},
   "outputs": [],
   "source": [
    "# angle off-set\n",
    "testing_data['angle_offset'] = np.einsum('ij,ij->i',testing_data[['u','v']].values,testing_data[['mu_1','mu_2']].values)\n",
    "testing_data['angle_offset'] = np.divide(testing_data['angle_offset'], np.multiply(\n",
    "    np.linalg.norm(testing_data[['u','v']].values,axis=1),np.linalg.norm(testing_data[['mu_1','mu_2']].values,axis=1)\n",
    "    ))\n",
    "testing_data['angle_offset'] = np.clip(testing_data['angle_offset'],-1,1)\n",
    "testing_data['angle_offset'] = np.arccos(testing_data['angle_offset'])\n",
    "testing_data['angle_offset']=np.rad2deg(testing_data['angle_offset'])"
   ]
  },
  {
   "cell_type": "code",
   "execution_count": 10,
   "metadata": {},
   "outputs": [],
   "source": [
    "filehandler = open(f\"analysis_data.p\",\"wb\")\n",
    "pickle.dump(testing_data,filehandler,protocol=pickle.HIGHEST_PROTOCOL)"
   ]
  },
  {
   "cell_type": "markdown",
   "metadata": {},
   "source": [
    "# Global Evaluation"
   ]
  },
  {
   "cell_type": "markdown",
   "metadata": {},
   "source": [
    "## Point Metrics (Prediction Accuracy)"
   ]
  },
  {
   "cell_type": "code",
   "execution_count": 77,
   "metadata": {},
   "outputs": [],
   "source": [
    "# group by configuration id\n",
    "point_analysis_data = testing_data.groupby(['config_id','replication_id'])[['lat','lon','id','time','u','v','config_id','replication_id','mu_1','mu_2','sigma_11','sigma_22','sigma_12','e_1','e_2','angle_offset']]"
   ]
  },
  {
   "cell_type": "markdown",
   "metadata": {},
   "source": [
    "### Metrics for each replication"
   ]
  },
  {
   "cell_type": "code",
   "execution_count": 126,
   "metadata": {},
   "outputs": [],
   "source": [
    "global_point_metrics_by_replication = pd.DataFrame(columns=['RMSE','MAE','MdAPE','MAAO'])"
   ]
  },
  {
   "cell_type": "code",
   "execution_count": 127,
   "metadata": {},
   "outputs": [],
   "source": [
    "# calculate rmse over all data points for each replication\n",
    "rmse_per_config = point_analysis_data.apply(lambda g: 100*np.sqrt(np.mean(g[\"e_1\"]**2 + g[\"e_2\"]**2)/2))\n",
    "global_point_metrics_by_replication['RMSE']=rmse_per_config"
   ]
  },
  {
   "cell_type": "code",
   "execution_count": 128,
   "metadata": {},
   "outputs": [],
   "source": [
    "# calculate mae over all data points for each replication\n",
    "mae_per_config = point_analysis_data.apply(lambda g: 100*np.mean(np.abs(g[\"e_1\"]) + np.abs(g[\"e_2\"]))/2)\n",
    "global_point_metrics_by_replication['MAE']=mae_per_config"
   ]
  },
  {
   "cell_type": "code",
   "execution_count": 129,
   "metadata": {},
   "outputs": [],
   "source": [
    "# calculate maao over all data points for each replication\n",
    "maao_per_config = point_analysis_data.apply(lambda g: np.mean(g['angle_offset']))\n",
    "global_point_metrics_by_replication['MAAO']=maao_per_config"
   ]
  },
  {
   "cell_type": "code",
   "execution_count": 130,
   "metadata": {},
   "outputs": [],
   "source": [
    "# calculate medAPE over all data points for each replication\n",
    "mdAPE_per_config = point_analysis_data.apply(lambda g: np.median([100*np.abs(g[\"e_1\"]/g[\"u\"]), 100*np.abs(g[\"e_2\"]/g[\"v\"])]))\n",
    "global_point_metrics_by_replication['MdAPE']=mdAPE_per_config"
   ]
  },
  {
   "cell_type": "code",
   "execution_count": null,
   "metadata": {},
   "outputs": [],
   "source": [
    "global_point_metrics_by_replication_data = global_point_metrics_by_replication.groupby('config_id')[['RMSE','MAE','MdAPE','MAAO']]"
   ]
  },
  {
   "cell_type": "code",
   "execution_count": 136,
   "metadata": {},
   "outputs": [
    {
     "data": {
      "text/html": [
       "<div>\n",
       "<style scoped>\n",
       "    .dataframe tbody tr th:only-of-type {\n",
       "        vertical-align: middle;\n",
       "    }\n",
       "\n",
       "    .dataframe tbody tr th {\n",
       "        vertical-align: top;\n",
       "    }\n",
       "\n",
       "    .dataframe thead th {\n",
       "        text-align: right;\n",
       "    }\n",
       "</style>\n",
       "<table border=\"1\" class=\"dataframe\">\n",
       "  <thead>\n",
       "    <tr style=\"text-align: right;\">\n",
       "      <th></th>\n",
       "      <th></th>\n",
       "      <th>RMSE</th>\n",
       "      <th>MAE</th>\n",
       "      <th>MdAPE</th>\n",
       "      <th>MAAO</th>\n",
       "    </tr>\n",
       "    <tr>\n",
       "      <th>config_id</th>\n",
       "      <th>replication_id</th>\n",
       "      <th></th>\n",
       "      <th></th>\n",
       "      <th></th>\n",
       "      <th></th>\n",
       "    </tr>\n",
       "  </thead>\n",
       "  <tbody>\n",
       "    <tr>\n",
       "      <th rowspan=\"5\" valign=\"top\">36</th>\n",
       "      <th>0</th>\n",
       "      <td>14.637541</td>\n",
       "      <td>9.852936</td>\n",
       "      <td>66.080252</td>\n",
       "      <td>40.820104</td>\n",
       "    </tr>\n",
       "    <tr>\n",
       "      <th>1</th>\n",
       "      <td>14.723423</td>\n",
       "      <td>9.925735</td>\n",
       "      <td>65.559610</td>\n",
       "      <td>39.712297</td>\n",
       "    </tr>\n",
       "    <tr>\n",
       "      <th>2</th>\n",
       "      <td>14.562164</td>\n",
       "      <td>9.821444</td>\n",
       "      <td>65.194768</td>\n",
       "      <td>40.082736</td>\n",
       "    </tr>\n",
       "    <tr>\n",
       "      <th>3</th>\n",
       "      <td>15.107037</td>\n",
       "      <td>10.309083</td>\n",
       "      <td>66.898909</td>\n",
       "      <td>40.637668</td>\n",
       "    </tr>\n",
       "    <tr>\n",
       "      <th>4</th>\n",
       "      <td>14.428255</td>\n",
       "      <td>9.725741</td>\n",
       "      <td>67.619112</td>\n",
       "      <td>41.490144</td>\n",
       "    </tr>\n",
       "    <tr>\n",
       "      <th>...</th>\n",
       "      <th>...</th>\n",
       "      <td>...</td>\n",
       "      <td>...</td>\n",
       "      <td>...</td>\n",
       "      <td>...</td>\n",
       "    </tr>\n",
       "    <tr>\n",
       "      <th rowspan=\"5\" valign=\"top\">39</th>\n",
       "      <th>95</th>\n",
       "      <td>14.152587</td>\n",
       "      <td>9.649509</td>\n",
       "      <td>66.233602</td>\n",
       "      <td>40.071270</td>\n",
       "    </tr>\n",
       "    <tr>\n",
       "      <th>96</th>\n",
       "      <td>14.518828</td>\n",
       "      <td>9.820072</td>\n",
       "      <td>64.930363</td>\n",
       "      <td>39.732634</td>\n",
       "    </tr>\n",
       "    <tr>\n",
       "      <th>97</th>\n",
       "      <td>14.789399</td>\n",
       "      <td>9.990455</td>\n",
       "      <td>64.201933</td>\n",
       "      <td>39.491352</td>\n",
       "    </tr>\n",
       "    <tr>\n",
       "      <th>98</th>\n",
       "      <td>15.329971</td>\n",
       "      <td>10.304926</td>\n",
       "      <td>65.095423</td>\n",
       "      <td>40.107992</td>\n",
       "    </tr>\n",
       "    <tr>\n",
       "      <th>99</th>\n",
       "      <td>14.396832</td>\n",
       "      <td>9.812459</td>\n",
       "      <td>65.761084</td>\n",
       "      <td>40.445346</td>\n",
       "    </tr>\n",
       "  </tbody>\n",
       "</table>\n",
       "<p>400 rows × 4 columns</p>\n",
       "</div>"
      ],
      "text/plain": [
       "                               RMSE        MAE      MdAPE       MAAO\n",
       "config_id replication_id                                            \n",
       "36        0               14.637541   9.852936  66.080252  40.820104\n",
       "          1               14.723423   9.925735  65.559610  39.712297\n",
       "          2               14.562164   9.821444  65.194768  40.082736\n",
       "          3               15.107037  10.309083  66.898909  40.637668\n",
       "          4               14.428255   9.725741  67.619112  41.490144\n",
       "...                             ...        ...        ...        ...\n",
       "39        95              14.152587   9.649509  66.233602  40.071270\n",
       "          96              14.518828   9.820072  64.930363  39.732634\n",
       "          97              14.789399   9.990455  64.201933  39.491352\n",
       "          98              15.329971  10.304926  65.095423  40.107992\n",
       "          99              14.396832   9.812459  65.761084  40.445346\n",
       "\n",
       "[400 rows x 4 columns]"
      ]
     },
     "execution_count": 136,
     "metadata": {},
     "output_type": "execute_result"
    }
   ],
   "source": [
    "global_point_metrics_by_replication"
   ]
  },
  {
   "cell_type": "markdown",
   "metadata": {},
   "source": [
    "### Summary of Point Metrics"
   ]
  },
  {
   "cell_type": "code",
   "execution_count": 132,
   "metadata": {},
   "outputs": [],
   "source": [
    "global_point_metrics_summaries = pd.DataFrame(columns=['RMSE mean','RMSE std', 'MAE mean', 'MAE std','MdAPE mean', 'MdAPE std','MAAO mean', 'MAAO std'])"
   ]
  },
  {
   "cell_type": "code",
   "execution_count": 133,
   "metadata": {},
   "outputs": [],
   "source": [
    "point_metric_names = ['RMSE','MAE','MdAPE','MAAO']"
   ]
  },
  {
   "cell_type": "code",
   "execution_count": 134,
   "metadata": {},
   "outputs": [],
   "source": [
    "for name in point_metric_names:\n",
    "    mean = global_point_metrics_by_replication_data.apply(lambda g: np.mean(g[name]))\n",
    "    std = global_point_metrics_by_replication_data.apply(lambda g: np.std(g[name],ddof=1))\n",
    "    global_point_metrics_summaries[f'{name} mean']=mean\n",
    "    global_point_metrics_summaries[f'{name} std']=std"
   ]
  },
  {
   "cell_type": "code",
   "execution_count": 135,
   "metadata": {},
   "outputs": [
    {
     "data": {
      "text/html": [
       "<div>\n",
       "<style scoped>\n",
       "    .dataframe tbody tr th:only-of-type {\n",
       "        vertical-align: middle;\n",
       "    }\n",
       "\n",
       "    .dataframe tbody tr th {\n",
       "        vertical-align: top;\n",
       "    }\n",
       "\n",
       "    .dataframe thead th {\n",
       "        text-align: right;\n",
       "    }\n",
       "</style>\n",
       "<table border=\"1\" class=\"dataframe\">\n",
       "  <thead>\n",
       "    <tr style=\"text-align: right;\">\n",
       "      <th></th>\n",
       "      <th>RMSE mean</th>\n",
       "      <th>RMSE std</th>\n",
       "      <th>MAE mean</th>\n",
       "      <th>MAE std</th>\n",
       "      <th>MdAPE mean</th>\n",
       "      <th>MdAPE std</th>\n",
       "      <th>MAAO mean</th>\n",
       "      <th>MAAO std</th>\n",
       "    </tr>\n",
       "    <tr>\n",
       "      <th>config_id</th>\n",
       "      <th></th>\n",
       "      <th></th>\n",
       "      <th></th>\n",
       "      <th></th>\n",
       "      <th></th>\n",
       "      <th></th>\n",
       "      <th></th>\n",
       "      <th></th>\n",
       "    </tr>\n",
       "  </thead>\n",
       "  <tbody>\n",
       "    <tr>\n",
       "      <th>36</th>\n",
       "      <td>14.783894</td>\n",
       "      <td>0.459634</td>\n",
       "      <td>9.964375</td>\n",
       "      <td>0.303359</td>\n",
       "      <td>66.159957</td>\n",
       "      <td>0.948322</td>\n",
       "      <td>40.485154</td>\n",
       "      <td>0.708520</td>\n",
       "    </tr>\n",
       "    <tr>\n",
       "      <th>37</th>\n",
       "      <td>14.750128</td>\n",
       "      <td>0.460359</td>\n",
       "      <td>9.959707</td>\n",
       "      <td>0.302851</td>\n",
       "      <td>65.976940</td>\n",
       "      <td>0.941905</td>\n",
       "      <td>40.490486</td>\n",
       "      <td>0.722616</td>\n",
       "    </tr>\n",
       "    <tr>\n",
       "      <th>38</th>\n",
       "      <td>14.542571</td>\n",
       "      <td>0.454691</td>\n",
       "      <td>9.843939</td>\n",
       "      <td>0.300715</td>\n",
       "      <td>65.546610</td>\n",
       "      <td>0.955865</td>\n",
       "      <td>40.079249</td>\n",
       "      <td>0.715063</td>\n",
       "    </tr>\n",
       "    <tr>\n",
       "      <th>39</th>\n",
       "      <td>14.533736</td>\n",
       "      <td>0.456756</td>\n",
       "      <td>9.856823</td>\n",
       "      <td>0.302589</td>\n",
       "      <td>65.480731</td>\n",
       "      <td>0.920441</td>\n",
       "      <td>40.115957</td>\n",
       "      <td>0.714580</td>\n",
       "    </tr>\n",
       "  </tbody>\n",
       "</table>\n",
       "</div>"
      ],
      "text/plain": [
       "           RMSE mean  RMSE std  MAE mean   MAE std  MdAPE mean  MdAPE std  \\\n",
       "config_id                                                                   \n",
       "36         14.783894  0.459634  9.964375  0.303359   66.159957   0.948322   \n",
       "37         14.750128  0.460359  9.959707  0.302851   65.976940   0.941905   \n",
       "38         14.542571  0.454691  9.843939  0.300715   65.546610   0.955865   \n",
       "39         14.533736  0.456756  9.856823  0.302589   65.480731   0.920441   \n",
       "\n",
       "           MAAO mean  MAAO std  \n",
       "config_id                       \n",
       "36         40.485154  0.708520  \n",
       "37         40.490486  0.722616  \n",
       "38         40.079249  0.715063  \n",
       "39         40.115957  0.714580  "
      ]
     },
     "execution_count": 135,
     "metadata": {},
     "output_type": "execute_result"
    }
   ],
   "source": [
    "global_point_metrics_summaries"
   ]
  },
  {
   "cell_type": "markdown",
   "metadata": {},
   "source": [
    "## Distribution Metrics (Prediction Accuracy)\n"
   ]
  },
  {
   "cell_type": "markdown",
   "metadata": {},
   "source": [
    "### Metrics for Each Replication"
   ]
  },
  {
   "cell_type": "code",
   "execution_count": 142,
   "metadata": {},
   "outputs": [],
   "source": [
    "def compute_nll(group):\n",
    "    sigma_11 = group[\"sigma_11\"]\n",
    "    sigma_22 = group[\"sigma_22\"]\n",
    "    sigma_12 = group[\"sigma_12\"]\n",
    "\n",
    "    # Determinant of covariance matrix\n",
    "    det_sigma = sigma_11 * sigma_22 - sigma_12 ** 2\n",
    "    log_det_sigma = np.log(det_sigma)\n",
    "\n",
    "    # Inverse of covariance matrix\n",
    "    inv_sigma_11 = sigma_22 / det_sigma\n",
    "    inv_sigma_22 = sigma_11 / det_sigma\n",
    "    inv_sigma_12 = -sigma_12 / det_sigma\n",
    "\n",
    "    # Compute quadratic term (Mahalanobis distance)\n",
    "    e1, e2 = group[\"e_1\"], group[\"e_2\"]\n",
    "    mahalanobis = (inv_sigma_11 * e1**2 + inv_sigma_22 * e2**2 + 2 * inv_sigma_12 * e1 * e2)\n",
    "\n",
    "    # Compute NLL\n",
    "    nll = 0.5 * (log_det_sigma + mahalanobis + np.log(4 * np.pi**2))\n",
    "    return np.mean(nll)\n",
    "\n",
    "def compute_crps(group):\n",
    "    # Compute univariate CRPS for both velocity components\n",
    "    def univariate_crps(e, sigma):\n",
    "        std_norm_cdf = norm.cdf(e / sigma)\n",
    "        return sigma * (1 - (2 / np.sqrt(np.pi)) * np.exp(-0.5 * (e / sigma) ** 2)) + e * (2 * std_norm_cdf - 1)\n",
    "\n",
    "    crps_1 = univariate_crps(group[\"e_1\"], np.sqrt(group[\"sigma_11\"]))\n",
    "    crps_2 = univariate_crps(group[\"e_2\"], np.sqrt(group[\"sigma_22\"]))\n",
    "\n",
    "    return np.mean(crps_1 + crps_2) / 2  # Average over both dimensions\n"
   ]
  },
  {
   "cell_type": "code",
   "execution_count": 145,
   "metadata": {},
   "outputs": [],
   "source": [
    "global_distributional_metrics_by_replication = pd.DataFrame(columns=['NLL','CRPS'])"
   ]
  },
  {
   "cell_type": "code",
   "execution_count": 146,
   "metadata": {},
   "outputs": [],
   "source": [
    "# calculate nll over all data points for each replication\n",
    "nll_per_config = point_analysis_data.apply(compute_nll)\n",
    "global_distributional_metrics_by_replication['NLL']=nll_per_config"
   ]
  },
  {
   "cell_type": "code",
   "execution_count": 147,
   "metadata": {},
   "outputs": [],
   "source": [
    "crps_per_config = point_analysis_data.apply(compute_crps)\n",
    "global_distributional_metrics_by_replication['CRPS']=crps_per_config"
   ]
  },
  {
   "cell_type": "code",
   "execution_count": 148,
   "metadata": {},
   "outputs": [
    {
     "data": {
      "text/html": [
       "<div>\n",
       "<style scoped>\n",
       "    .dataframe tbody tr th:only-of-type {\n",
       "        vertical-align: middle;\n",
       "    }\n",
       "\n",
       "    .dataframe tbody tr th {\n",
       "        vertical-align: top;\n",
       "    }\n",
       "\n",
       "    .dataframe thead th {\n",
       "        text-align: right;\n",
       "    }\n",
       "</style>\n",
       "<table border=\"1\" class=\"dataframe\">\n",
       "  <thead>\n",
       "    <tr style=\"text-align: right;\">\n",
       "      <th></th>\n",
       "      <th></th>\n",
       "      <th>NLL</th>\n",
       "      <th>CRPS</th>\n",
       "    </tr>\n",
       "    <tr>\n",
       "      <th>config_id</th>\n",
       "      <th>replication_id</th>\n",
       "      <th></th>\n",
       "      <th></th>\n",
       "    </tr>\n",
       "  </thead>\n",
       "  <tbody>\n",
       "    <tr>\n",
       "      <th rowspan=\"5\" valign=\"top\">36</th>\n",
       "      <th>0</th>\n",
       "      <td>-1.440711</td>\n",
       "      <td>0.096162</td>\n",
       "    </tr>\n",
       "    <tr>\n",
       "      <th>1</th>\n",
       "      <td>-1.417110</td>\n",
       "      <td>0.095801</td>\n",
       "    </tr>\n",
       "    <tr>\n",
       "      <th>2</th>\n",
       "      <td>-1.453664</td>\n",
       "      <td>0.095730</td>\n",
       "    </tr>\n",
       "    <tr>\n",
       "      <th>3</th>\n",
       "      <td>-1.323430</td>\n",
       "      <td>0.102190</td>\n",
       "    </tr>\n",
       "    <tr>\n",
       "      <th>4</th>\n",
       "      <td>-1.457378</td>\n",
       "      <td>0.095266</td>\n",
       "    </tr>\n",
       "    <tr>\n",
       "      <th>...</th>\n",
       "      <th>...</th>\n",
       "      <td>...</td>\n",
       "      <td>...</td>\n",
       "    </tr>\n",
       "    <tr>\n",
       "      <th rowspan=\"5\" valign=\"top\">39</th>\n",
       "      <th>95</th>\n",
       "      <td>-1.494421</td>\n",
       "      <td>0.094107</td>\n",
       "    </tr>\n",
       "    <tr>\n",
       "      <th>96</th>\n",
       "      <td>-1.442614</td>\n",
       "      <td>0.096159</td>\n",
       "    </tr>\n",
       "    <tr>\n",
       "      <th>97</th>\n",
       "      <td>-1.402807</td>\n",
       "      <td>0.098442</td>\n",
       "    </tr>\n",
       "    <tr>\n",
       "      <th>98</th>\n",
       "      <td>-1.353397</td>\n",
       "      <td>0.101515</td>\n",
       "    </tr>\n",
       "    <tr>\n",
       "      <th>99</th>\n",
       "      <td>-1.440339</td>\n",
       "      <td>0.095419</td>\n",
       "    </tr>\n",
       "  </tbody>\n",
       "</table>\n",
       "<p>400 rows × 2 columns</p>\n",
       "</div>"
      ],
      "text/plain": [
       "                               NLL      CRPS\n",
       "config_id replication_id                    \n",
       "36        0              -1.440711  0.096162\n",
       "          1              -1.417110  0.095801\n",
       "          2              -1.453664  0.095730\n",
       "          3              -1.323430  0.102190\n",
       "          4              -1.457378  0.095266\n",
       "...                            ...       ...\n",
       "39        95             -1.494421  0.094107\n",
       "          96             -1.442614  0.096159\n",
       "          97             -1.402807  0.098442\n",
       "          98             -1.353397  0.101515\n",
       "          99             -1.440339  0.095419\n",
       "\n",
       "[400 rows x 2 columns]"
      ]
     },
     "execution_count": 148,
     "metadata": {},
     "output_type": "execute_result"
    }
   ],
   "source": [
    "global_distributional_metrics_by_replication"
   ]
  },
  {
   "cell_type": "markdown",
   "metadata": {},
   "source": [
    "### Summary of Distributional Metrics"
   ]
  },
  {
   "cell_type": "code",
   "execution_count": 151,
   "metadata": {},
   "outputs": [],
   "source": [
    "distributional_metric_names = ['NLL','CRPS']\n",
    "global_distributional_metrics_by_replication_data = global_distributional_metrics_by_replication.groupby('config_id')\n",
    "global_distributional_metrics_summaries = pd.DataFrame(columns=['NLL mean', 'NLL std', 'CRPS mean', 'CRPS std'])"
   ]
  },
  {
   "cell_type": "code",
   "execution_count": 152,
   "metadata": {},
   "outputs": [],
   "source": [
    "for name in distributional_metric_names:\n",
    "    mean = global_distributional_metrics_by_replication_data.apply(lambda g: np.mean(g[name]))\n",
    "    std = global_distributional_metrics_by_replication_data.apply(lambda g: np.std(g[name],ddof=1))\n",
    "    global_distributional_metrics_summaries[f'{name} mean']=mean\n",
    "    global_distributional_metrics_summaries[f'{name} std']=std"
   ]
  },
  {
   "cell_type": "code",
   "execution_count": 153,
   "metadata": {},
   "outputs": [
    {
     "data": {
      "text/html": [
       "<div>\n",
       "<style scoped>\n",
       "    .dataframe tbody tr th:only-of-type {\n",
       "        vertical-align: middle;\n",
       "    }\n",
       "\n",
       "    .dataframe tbody tr th {\n",
       "        vertical-align: top;\n",
       "    }\n",
       "\n",
       "    .dataframe thead th {\n",
       "        text-align: right;\n",
       "    }\n",
       "</style>\n",
       "<table border=\"1\" class=\"dataframe\">\n",
       "  <thead>\n",
       "    <tr style=\"text-align: right;\">\n",
       "      <th></th>\n",
       "      <th>NLL mean</th>\n",
       "      <th>NLL std</th>\n",
       "      <th>CRPS mean</th>\n",
       "      <th>CRPS std</th>\n",
       "    </tr>\n",
       "    <tr>\n",
       "      <th>config_id</th>\n",
       "      <th></th>\n",
       "      <th></th>\n",
       "      <th></th>\n",
       "      <th></th>\n",
       "    </tr>\n",
       "  </thead>\n",
       "  <tbody>\n",
       "    <tr>\n",
       "      <th>36</th>\n",
       "      <td>-1.415170</td>\n",
       "      <td>0.066092</td>\n",
       "      <td>0.097287</td>\n",
       "      <td>0.003403</td>\n",
       "    </tr>\n",
       "    <tr>\n",
       "      <th>37</th>\n",
       "      <td>-1.411582</td>\n",
       "      <td>0.064721</td>\n",
       "      <td>0.096986</td>\n",
       "      <td>0.003326</td>\n",
       "    </tr>\n",
       "    <tr>\n",
       "      <th>38</th>\n",
       "      <td>-1.446656</td>\n",
       "      <td>0.065444</td>\n",
       "      <td>0.096549</td>\n",
       "      <td>0.003404</td>\n",
       "    </tr>\n",
       "    <tr>\n",
       "      <th>39</th>\n",
       "      <td>-1.441489</td>\n",
       "      <td>0.064162</td>\n",
       "      <td>0.096528</td>\n",
       "      <td>0.003346</td>\n",
       "    </tr>\n",
       "  </tbody>\n",
       "</table>\n",
       "</div>"
      ],
      "text/plain": [
       "           NLL mean   NLL std  CRPS mean  CRPS std\n",
       "config_id                                         \n",
       "36        -1.415170  0.066092   0.097287  0.003403\n",
       "37        -1.411582  0.064721   0.096986  0.003326\n",
       "38        -1.446656  0.065444   0.096549  0.003404\n",
       "39        -1.441489  0.064162   0.096528  0.003346"
      ]
     },
     "execution_count": 153,
     "metadata": {},
     "output_type": "execute_result"
    }
   ],
   "source": [
    "global_distributional_metrics_summaries"
   ]
  },
  {
   "cell_type": "markdown",
   "metadata": {},
   "source": [
    "## Calibration"
   ]
  },
  {
   "cell_type": "code",
   "execution_count": null,
   "metadata": {},
   "outputs": [],
   "source": [
    "def in_ci(error, sigma, alpha=0.95):\n",
    "    crit_val = stats.chi2.ppf(alpha, sigma.shape[0])\n",
    "    sigma_inv = np.linalg.inv(sigma)\n",
    "    n = error.T @ sigma_inv @ error\n",
    "    return n < crit_val\n",
    "\n",
    "def coverage(dists, y, alpha=0.90):\n",
    "    N = y[0].shape[0]\n",
    "    covs = [dists[i].cov for i in range(N)]\n",
    "    diffs = [y[0][i, :] - dists[i].mean for i in range(N)]\n",
    "    ret = [in_ci(diff, cov, alpha=alpha) for diff, cov in zip(diffs, covs)]\n",
    "    ret = sum(ret)/(len(ret))\n",
    "    return ret\n",
    "\n",
    "def matrix_area(mat, mult):\n",
    "    p = mat.shape[0]\n",
    "    return (\n",
    "        2\n",
    "        * (np.pi ** (p / 2))\n",
    "        / scipy.special.gamma(p / 2)\n",
    "        / p\n",
    "        * (np.linalg.det(mat) ** 0.5)\n",
    "        * mult ** (p / 2)\n",
    "    )\n",
    "\n",
    "def area(dists, y, alpha: float = 0.90):\n",
    "    N = y[0].shape[0]\n",
    "    covs = [dists[i].cov for i in range(N)]\n",
    "    # TODO: Check this is correct for the area\n",
    "    area = [matrix_area(cov, stats.chi2.ppf(alpha, cov.shape[1]))*100**2 for cov in covs] #check that putting chi2 here was the correct thing to do\n",
    "    return area"
   ]
  },
  {
   "cell_type": "markdown",
   "metadata": {},
   "source": [
    "## Model Fit"
   ]
  },
  {
   "cell_type": "code",
   "execution_count": 155,
   "metadata": {},
   "outputs": [],
   "source": [
    "fit_names = ['R2 Score','Semivariogram of Residuals','Morans I','Studentised e_1', 'Studentised e_2']\n",
    "global_model_fit_metrics_by_replication = pd.DataFrame(columns=[fit_names])"
   ]
  },
  {
   "cell_type": "code",
   "execution_count": 156,
   "metadata": {},
   "outputs": [],
   "source": [
    "studentised_e1_per_config = point_analysis_data.apply(lambda g: g[\"e_1\"]/np.sqrt(g[\"sigma_11\"]))\n",
    "studentised_e2_per_config = point_analysis_data.apply(lambda g: g[\"e_2\"]/np.sqrt(g[\"sigma_22\"]))\n",
    "global_model_fit_metrics_by_replication['Studentised e_1'] = studentised_e1_per_config\n",
    "global_model_fit_metrics_by_replication['Studentised e_2'] = studentised_e2_per_config"
   ]
  },
  {
   "cell_type": "code",
   "execution_count": 165,
   "metadata": {},
   "outputs": [],
   "source": [
    "rss = point_analysis_data.apply(lambda g: np.sum(g['e_1']**2+ g['e_2']**2))\n",
    "tss = point_analysis_data.apply(lambda g: np.sum((g['u']-np.mean(g['u']))**2+(g['v']-np.mean(g['v']))**2))\n",
    "r2_score_per_config =  1-rss/tss\n",
    "global_model_fit_metrics_by_replication['R2 Score'] = r2_score_per_config"
   ]
  },
  {
   "cell_type": "code",
   "execution_count": 166,
   "metadata": {},
   "outputs": [
    {
     "data": {
      "text/html": [
       "<div>\n",
       "<style scoped>\n",
       "    .dataframe tbody tr th:only-of-type {\n",
       "        vertical-align: middle;\n",
       "    }\n",
       "\n",
       "    .dataframe tbody tr th {\n",
       "        vertical-align: top;\n",
       "    }\n",
       "\n",
       "    .dataframe thead tr th {\n",
       "        text-align: left;\n",
       "    }\n",
       "\n",
       "    .dataframe thead tr:last-of-type th {\n",
       "        text-align: right;\n",
       "    }\n",
       "</style>\n",
       "<table border=\"1\" class=\"dataframe\">\n",
       "  <thead>\n",
       "    <tr>\n",
       "      <th></th>\n",
       "      <th></th>\n",
       "      <th></th>\n",
       "      <th>R2 Score</th>\n",
       "      <th>Semivariogram of Residuals</th>\n",
       "      <th>Morans I</th>\n",
       "      <th>Studentised e_1</th>\n",
       "      <th>Studentised e_2</th>\n",
       "    </tr>\n",
       "    <tr>\n",
       "      <th>config_id</th>\n",
       "      <th>replication_id</th>\n",
       "      <th></th>\n",
       "      <th></th>\n",
       "      <th></th>\n",
       "      <th></th>\n",
       "      <th></th>\n",
       "      <th></th>\n",
       "    </tr>\n",
       "  </thead>\n",
       "  <tbody>\n",
       "    <tr>\n",
       "      <th rowspan=\"5\" valign=\"top\">36</th>\n",
       "      <th rowspan=\"5\" valign=\"top\">0</th>\n",
       "      <th>0</th>\n",
       "      <td>0.641996</td>\n",
       "      <td>NaN</td>\n",
       "      <td>NaN</td>\n",
       "      <td>-0.735459</td>\n",
       "      <td>0.587948</td>\n",
       "    </tr>\n",
       "    <tr>\n",
       "      <th>1</th>\n",
       "      <td>0.641996</td>\n",
       "      <td>NaN</td>\n",
       "      <td>NaN</td>\n",
       "      <td>-0.949251</td>\n",
       "      <td>0.626699</td>\n",
       "    </tr>\n",
       "    <tr>\n",
       "      <th>2</th>\n",
       "      <td>0.641996</td>\n",
       "      <td>NaN</td>\n",
       "      <td>NaN</td>\n",
       "      <td>-0.815252</td>\n",
       "      <td>1.074595</td>\n",
       "    </tr>\n",
       "    <tr>\n",
       "      <th>3</th>\n",
       "      <td>0.641996</td>\n",
       "      <td>NaN</td>\n",
       "      <td>NaN</td>\n",
       "      <td>-0.086197</td>\n",
       "      <td>0.780358</td>\n",
       "    </tr>\n",
       "    <tr>\n",
       "      <th>4</th>\n",
       "      <td>0.641996</td>\n",
       "      <td>NaN</td>\n",
       "      <td>NaN</td>\n",
       "      <td>0.415942</td>\n",
       "      <td>1.537305</td>\n",
       "    </tr>\n",
       "    <tr>\n",
       "      <th>...</th>\n",
       "      <th>...</th>\n",
       "      <th>...</th>\n",
       "      <td>...</td>\n",
       "      <td>...</td>\n",
       "      <td>...</td>\n",
       "      <td>...</td>\n",
       "      <td>...</td>\n",
       "    </tr>\n",
       "    <tr>\n",
       "      <th rowspan=\"5\" valign=\"top\">39</th>\n",
       "      <th rowspan=\"5\" valign=\"top\">99</th>\n",
       "      <th>16479735</th>\n",
       "      <td>0.656965</td>\n",
       "      <td>NaN</td>\n",
       "      <td>NaN</td>\n",
       "      <td>0.226709</td>\n",
       "      <td>0.134135</td>\n",
       "    </tr>\n",
       "    <tr>\n",
       "      <th>16479736</th>\n",
       "      <td>0.656965</td>\n",
       "      <td>NaN</td>\n",
       "      <td>NaN</td>\n",
       "      <td>0.616115</td>\n",
       "      <td>0.594142</td>\n",
       "    </tr>\n",
       "    <tr>\n",
       "      <th>16479737</th>\n",
       "      <td>0.656965</td>\n",
       "      <td>NaN</td>\n",
       "      <td>NaN</td>\n",
       "      <td>0.975459</td>\n",
       "      <td>0.189468</td>\n",
       "    </tr>\n",
       "    <tr>\n",
       "      <th>16479738</th>\n",
       "      <td>0.656965</td>\n",
       "      <td>NaN</td>\n",
       "      <td>NaN</td>\n",
       "      <td>1.398583</td>\n",
       "      <td>-0.638252</td>\n",
       "    </tr>\n",
       "    <tr>\n",
       "      <th>16479739</th>\n",
       "      <td>0.656965</td>\n",
       "      <td>NaN</td>\n",
       "      <td>NaN</td>\n",
       "      <td>0.645716</td>\n",
       "      <td>-1.353895</td>\n",
       "    </tr>\n",
       "  </tbody>\n",
       "</table>\n",
       "<p>16479740 rows × 5 columns</p>\n",
       "</div>"
      ],
      "text/plain": [
       "                                   R2 Score Semivariogram of Residuals  \\\n",
       "config_id replication_id                                                 \n",
       "36        0              0         0.641996                        NaN   \n",
       "                         1         0.641996                        NaN   \n",
       "                         2         0.641996                        NaN   \n",
       "                         3         0.641996                        NaN   \n",
       "                         4         0.641996                        NaN   \n",
       "...                                     ...                        ...   \n",
       "39        99             16479735  0.656965                        NaN   \n",
       "                         16479736  0.656965                        NaN   \n",
       "                         16479737  0.656965                        NaN   \n",
       "                         16479738  0.656965                        NaN   \n",
       "                         16479739  0.656965                        NaN   \n",
       "\n",
       "                                  Morans I Studentised e_1 Studentised e_2  \n",
       "config_id replication_id                                                    \n",
       "36        0              0             NaN       -0.735459        0.587948  \n",
       "                         1             NaN       -0.949251        0.626699  \n",
       "                         2             NaN       -0.815252        1.074595  \n",
       "                         3             NaN       -0.086197        0.780358  \n",
       "                         4             NaN        0.415942        1.537305  \n",
       "...                                    ...             ...             ...  \n",
       "39        99             16479735      NaN        0.226709        0.134135  \n",
       "                         16479736      NaN        0.616115        0.594142  \n",
       "                         16479737      NaN        0.975459        0.189468  \n",
       "                         16479738      NaN        1.398583       -0.638252  \n",
       "                         16479739      NaN        0.645716       -1.353895  \n",
       "\n",
       "[16479740 rows x 5 columns]"
      ]
     },
     "execution_count": 166,
     "metadata": {},
     "output_type": "execute_result"
    }
   ],
   "source": [
    "global_model_fit_metrics_by_replication"
   ]
  },
  {
   "cell_type": "markdown",
   "metadata": {},
   "source": [
    "## Assumption Validity"
   ]
  },
  {
   "cell_type": "code",
   "execution_count": 172,
   "metadata": {},
   "outputs": [],
   "source": [
    "def compute_mahalanobis(group):\n",
    "    sigma_11 = group[\"sigma_11\"]\n",
    "    sigma_22 = group[\"sigma_22\"]\n",
    "    sigma_12 = group[\"sigma_12\"]\n",
    "\n",
    "    # Determinant of covariance matrix\n",
    "    det_sigma = sigma_11 * sigma_22 - sigma_12 ** 2\n",
    "\n",
    "    # Inverse of covariance matrix\n",
    "    inv_sigma_11 = sigma_22 / det_sigma\n",
    "    inv_sigma_22 = sigma_11 / det_sigma\n",
    "    inv_sigma_12 = -sigma_12 / det_sigma\n",
    "\n",
    "    # Compute quadratic term (Mahalanobis distance)\n",
    "    e1, e2 = group[\"e_1\"], group[\"e_2\"]\n",
    "    mahalanobis = (inv_sigma_11 * e1**2 + inv_sigma_22 * e2**2 + 2 * inv_sigma_12 * e1 * e2)\n",
    "    \n",
    "    return np.mean(mahalanobis)"
   ]
  },
  {
   "cell_type": "code",
   "execution_count": 173,
   "metadata": {},
   "outputs": [],
   "source": [
    "fit_names = ['Mahalanobis Distance']\n",
    "global_assumption_validation_by_replication = pd.DataFrame(columns=[fit_names])"
   ]
  },
  {
   "cell_type": "code",
   "execution_count": 174,
   "metadata": {},
   "outputs": [
    {
     "ename": "MemoryError",
     "evalue": "Unable to allocate 126. MiB for an array with shape (16479740, 1) and data type datetime64[ns]",
     "output_type": "error",
     "traceback": [
      "\u001b[1;31m---------------------------------------------------------------------------\u001b[0m",
      "\u001b[1;31mMemoryError\u001b[0m                               Traceback (most recent call last)",
      "Cell \u001b[1;32mIn[174], line 1\u001b[0m\n\u001b[1;32m----> 1\u001b[0m mahalanobis_per_config \u001b[38;5;241m=\u001b[39m \u001b[43mpoint_analysis_data\u001b[49m\u001b[38;5;241;43m.\u001b[39;49m\u001b[43mapply\u001b[49m\u001b[43m(\u001b[49m\u001b[43mcompute_mahalanobis\u001b[49m\u001b[43m)\u001b[49m\n\u001b[0;32m      2\u001b[0m global_assumption_validation_by_replication[\u001b[38;5;124m'\u001b[39m\u001b[38;5;124mMahalanobis Distance\u001b[39m\u001b[38;5;124m'\u001b[39m] \u001b[38;5;241m=\u001b[39m mahalanobis_per_config\n",
      "File \u001b[1;32mc:\\Users\\vm2218\\AppData\\Local\\anaconda3\\envs\\SeaDucks\\Lib\\site-packages\\pandas\\core\\groupby\\groupby.py:1824\u001b[0m, in \u001b[0;36mGroupBy.apply\u001b[1;34m(self, func, include_groups, *args, **kwargs)\u001b[0m\n\u001b[0;32m   1822\u001b[0m \u001b[38;5;28;01mwith\u001b[39;00m option_context(\u001b[38;5;124m\"\u001b[39m\u001b[38;5;124mmode.chained_assignment\u001b[39m\u001b[38;5;124m\"\u001b[39m, \u001b[38;5;28;01mNone\u001b[39;00m):\n\u001b[0;32m   1823\u001b[0m     \u001b[38;5;28;01mtry\u001b[39;00m:\n\u001b[1;32m-> 1824\u001b[0m         result \u001b[38;5;241m=\u001b[39m \u001b[38;5;28;43mself\u001b[39;49m\u001b[38;5;241;43m.\u001b[39;49m\u001b[43m_python_apply_general\u001b[49m\u001b[43m(\u001b[49m\u001b[43mf\u001b[49m\u001b[43m,\u001b[49m\u001b[43m \u001b[49m\u001b[38;5;28;43mself\u001b[39;49m\u001b[38;5;241;43m.\u001b[39;49m\u001b[43m_selected_obj\u001b[49m\u001b[43m)\u001b[49m\n\u001b[0;32m   1825\u001b[0m         \u001b[38;5;28;01mif\u001b[39;00m (\n\u001b[0;32m   1826\u001b[0m             \u001b[38;5;129;01mnot\u001b[39;00m \u001b[38;5;28misinstance\u001b[39m(\u001b[38;5;28mself\u001b[39m\u001b[38;5;241m.\u001b[39mobj, Series)\n\u001b[0;32m   1827\u001b[0m             \u001b[38;5;129;01mand\u001b[39;00m \u001b[38;5;28mself\u001b[39m\u001b[38;5;241m.\u001b[39m_selection \u001b[38;5;129;01mis\u001b[39;00m \u001b[38;5;28;01mNone\u001b[39;00m\n\u001b[0;32m   1828\u001b[0m             \u001b[38;5;129;01mand\u001b[39;00m \u001b[38;5;28mself\u001b[39m\u001b[38;5;241m.\u001b[39m_selected_obj\u001b[38;5;241m.\u001b[39mshape \u001b[38;5;241m!=\u001b[39m \u001b[38;5;28mself\u001b[39m\u001b[38;5;241m.\u001b[39m_obj_with_exclusions\u001b[38;5;241m.\u001b[39mshape\n\u001b[0;32m   1829\u001b[0m         ):\n\u001b[0;32m   1830\u001b[0m             warnings\u001b[38;5;241m.\u001b[39mwarn(\n\u001b[0;32m   1831\u001b[0m                 message\u001b[38;5;241m=\u001b[39m_apply_groupings_depr\u001b[38;5;241m.\u001b[39mformat(\n\u001b[0;32m   1832\u001b[0m                     \u001b[38;5;28mtype\u001b[39m(\u001b[38;5;28mself\u001b[39m)\u001b[38;5;241m.\u001b[39m\u001b[38;5;18m__name__\u001b[39m, \u001b[38;5;124m\"\u001b[39m\u001b[38;5;124mapply\u001b[39m\u001b[38;5;124m\"\u001b[39m\n\u001b[1;32m   (...)\u001b[0m\n\u001b[0;32m   1835\u001b[0m                 stacklevel\u001b[38;5;241m=\u001b[39mfind_stack_level(),\n\u001b[0;32m   1836\u001b[0m             )\n",
      "File \u001b[1;32mc:\\Users\\vm2218\\AppData\\Local\\anaconda3\\envs\\SeaDucks\\Lib\\site-packages\\pandas\\core\\groupby\\groupby.py:1885\u001b[0m, in \u001b[0;36mGroupBy._python_apply_general\u001b[1;34m(self, f, data, not_indexed_same, is_transform, is_agg)\u001b[0m\n\u001b[0;32m   1850\u001b[0m \u001b[38;5;129m@final\u001b[39m\n\u001b[0;32m   1851\u001b[0m \u001b[38;5;28;01mdef\u001b[39;00m \u001b[38;5;21m_python_apply_general\u001b[39m(\n\u001b[0;32m   1852\u001b[0m     \u001b[38;5;28mself\u001b[39m,\n\u001b[1;32m   (...)\u001b[0m\n\u001b[0;32m   1857\u001b[0m     is_agg: \u001b[38;5;28mbool\u001b[39m \u001b[38;5;241m=\u001b[39m \u001b[38;5;28;01mFalse\u001b[39;00m,\n\u001b[0;32m   1858\u001b[0m ) \u001b[38;5;241m-\u001b[39m\u001b[38;5;241m>\u001b[39m NDFrameT:\n\u001b[0;32m   1859\u001b[0m \u001b[38;5;250m    \u001b[39m\u001b[38;5;124;03m\"\"\"\u001b[39;00m\n\u001b[0;32m   1860\u001b[0m \u001b[38;5;124;03m    Apply function f in python space\u001b[39;00m\n\u001b[0;32m   1861\u001b[0m \n\u001b[1;32m   (...)\u001b[0m\n\u001b[0;32m   1883\u001b[0m \u001b[38;5;124;03m        data after applying f\u001b[39;00m\n\u001b[0;32m   1884\u001b[0m \u001b[38;5;124;03m    \"\"\"\u001b[39;00m\n\u001b[1;32m-> 1885\u001b[0m     values, mutated \u001b[38;5;241m=\u001b[39m \u001b[38;5;28;43mself\u001b[39;49m\u001b[38;5;241;43m.\u001b[39;49m\u001b[43m_grouper\u001b[49m\u001b[38;5;241;43m.\u001b[39;49m\u001b[43mapply_groupwise\u001b[49m\u001b[43m(\u001b[49m\u001b[43mf\u001b[49m\u001b[43m,\u001b[49m\u001b[43m \u001b[49m\u001b[43mdata\u001b[49m\u001b[43m,\u001b[49m\u001b[43m \u001b[49m\u001b[38;5;28;43mself\u001b[39;49m\u001b[38;5;241;43m.\u001b[39;49m\u001b[43maxis\u001b[49m\u001b[43m)\u001b[49m\n\u001b[0;32m   1886\u001b[0m     \u001b[38;5;28;01mif\u001b[39;00m not_indexed_same \u001b[38;5;129;01mis\u001b[39;00m \u001b[38;5;28;01mNone\u001b[39;00m:\n\u001b[0;32m   1887\u001b[0m         not_indexed_same \u001b[38;5;241m=\u001b[39m mutated\n",
      "File \u001b[1;32mc:\\Users\\vm2218\\AppData\\Local\\anaconda3\\envs\\SeaDucks\\Lib\\site-packages\\pandas\\core\\groupby\\ops.py:909\u001b[0m, in \u001b[0;36mBaseGrouper.apply_groupwise\u001b[1;34m(self, f, data, axis)\u001b[0m\n\u001b[0;32m    906\u001b[0m \u001b[38;5;66;03m# This calls DataSplitter.__iter__\u001b[39;00m\n\u001b[0;32m    907\u001b[0m zipped \u001b[38;5;241m=\u001b[39m \u001b[38;5;28mzip\u001b[39m(group_keys, splitter)\n\u001b[1;32m--> 909\u001b[0m \u001b[38;5;28;01mfor\u001b[39;00m key, group \u001b[38;5;129;01min\u001b[39;00m zipped:\n\u001b[0;32m    910\u001b[0m     \u001b[38;5;66;03m# Pinning name is needed for\u001b[39;00m\n\u001b[0;32m    911\u001b[0m     \u001b[38;5;66;03m#  test_group_apply_once_per_group,\u001b[39;00m\n\u001b[0;32m    912\u001b[0m     \u001b[38;5;66;03m#  test_inconsistent_return_type, test_set_group_name,\u001b[39;00m\n\u001b[0;32m    913\u001b[0m     \u001b[38;5;66;03m#  test_group_name_available_in_inference_pass,\u001b[39;00m\n\u001b[0;32m    914\u001b[0m     \u001b[38;5;66;03m#  test_groupby_multi_timezone\u001b[39;00m\n\u001b[0;32m    915\u001b[0m     \u001b[38;5;28mobject\u001b[39m\u001b[38;5;241m.\u001b[39m\u001b[38;5;21m__setattr__\u001b[39m(group, \u001b[38;5;124m\"\u001b[39m\u001b[38;5;124mname\u001b[39m\u001b[38;5;124m\"\u001b[39m, key)\n\u001b[0;32m    917\u001b[0m     \u001b[38;5;66;03m# group might be modified\u001b[39;00m\n",
      "File \u001b[1;32mc:\\Users\\vm2218\\AppData\\Local\\anaconda3\\envs\\SeaDucks\\Lib\\site-packages\\pandas\\core\\groupby\\ops.py:1150\u001b[0m, in \u001b[0;36mDataSplitter.__iter__\u001b[1;34m(self)\u001b[0m\n\u001b[0;32m   1149\u001b[0m \u001b[38;5;28;01mdef\u001b[39;00m \u001b[38;5;21m__iter__\u001b[39m(\u001b[38;5;28mself\u001b[39m) \u001b[38;5;241m-\u001b[39m\u001b[38;5;241m>\u001b[39m Iterator:\n\u001b[1;32m-> 1150\u001b[0m     sdata \u001b[38;5;241m=\u001b[39m \u001b[38;5;28;43mself\u001b[39;49m\u001b[38;5;241;43m.\u001b[39;49m\u001b[43m_sorted_data\u001b[49m\n\u001b[0;32m   1152\u001b[0m     \u001b[38;5;28;01mif\u001b[39;00m \u001b[38;5;28mself\u001b[39m\u001b[38;5;241m.\u001b[39mngroups \u001b[38;5;241m==\u001b[39m \u001b[38;5;241m0\u001b[39m:\n\u001b[0;32m   1153\u001b[0m         \u001b[38;5;66;03m# we are inside a generator, rather than raise StopIteration\u001b[39;00m\n\u001b[0;32m   1154\u001b[0m         \u001b[38;5;66;03m# we merely return signal the end\u001b[39;00m\n\u001b[0;32m   1155\u001b[0m         \u001b[38;5;28;01mreturn\u001b[39;00m\n",
      "File \u001b[1;32mproperties.pyx:36\u001b[0m, in \u001b[0;36mpandas._libs.properties.CachedProperty.__get__\u001b[1;34m()\u001b[0m\n",
      "File \u001b[1;32mc:\\Users\\vm2218\\AppData\\Local\\anaconda3\\envs\\SeaDucks\\Lib\\site-packages\\pandas\\core\\groupby\\ops.py:1164\u001b[0m, in \u001b[0;36mDataSplitter._sorted_data\u001b[1;34m(self)\u001b[0m\n\u001b[0;32m   1162\u001b[0m \u001b[38;5;129m@cache_readonly\u001b[39m\n\u001b[0;32m   1163\u001b[0m \u001b[38;5;28;01mdef\u001b[39;00m \u001b[38;5;21m_sorted_data\u001b[39m(\u001b[38;5;28mself\u001b[39m) \u001b[38;5;241m-\u001b[39m\u001b[38;5;241m>\u001b[39m NDFrameT:\n\u001b[1;32m-> 1164\u001b[0m     \u001b[38;5;28;01mreturn\u001b[39;00m \u001b[38;5;28;43mself\u001b[39;49m\u001b[38;5;241;43m.\u001b[39;49m\u001b[43mdata\u001b[49m\u001b[38;5;241;43m.\u001b[39;49m\u001b[43mtake\u001b[49m\u001b[43m(\u001b[49m\u001b[38;5;28;43mself\u001b[39;49m\u001b[38;5;241;43m.\u001b[39;49m\u001b[43m_sort_idx\u001b[49m\u001b[43m,\u001b[49m\u001b[43m \u001b[49m\u001b[43maxis\u001b[49m\u001b[38;5;241;43m=\u001b[39;49m\u001b[38;5;28;43mself\u001b[39;49m\u001b[38;5;241;43m.\u001b[39;49m\u001b[43maxis\u001b[49m\u001b[43m)\u001b[49m\n",
      "File \u001b[1;32mc:\\Users\\vm2218\\AppData\\Local\\anaconda3\\envs\\SeaDucks\\Lib\\site-packages\\pandas\\core\\generic.py:4133\u001b[0m, in \u001b[0;36mNDFrame.take\u001b[1;34m(self, indices, axis, **kwargs)\u001b[0m\n\u001b[0;32m   4128\u001b[0m     \u001b[38;5;66;03m# We can get here with a slice via DataFrame.__getitem__\u001b[39;00m\n\u001b[0;32m   4129\u001b[0m     indices \u001b[38;5;241m=\u001b[39m np\u001b[38;5;241m.\u001b[39marange(\n\u001b[0;32m   4130\u001b[0m         indices\u001b[38;5;241m.\u001b[39mstart, indices\u001b[38;5;241m.\u001b[39mstop, indices\u001b[38;5;241m.\u001b[39mstep, dtype\u001b[38;5;241m=\u001b[39mnp\u001b[38;5;241m.\u001b[39mintp\n\u001b[0;32m   4131\u001b[0m     )\n\u001b[1;32m-> 4133\u001b[0m new_data \u001b[38;5;241m=\u001b[39m \u001b[38;5;28;43mself\u001b[39;49m\u001b[38;5;241;43m.\u001b[39;49m\u001b[43m_mgr\u001b[49m\u001b[38;5;241;43m.\u001b[39;49m\u001b[43mtake\u001b[49m\u001b[43m(\u001b[49m\n\u001b[0;32m   4134\u001b[0m \u001b[43m    \u001b[49m\u001b[43mindices\u001b[49m\u001b[43m,\u001b[49m\n\u001b[0;32m   4135\u001b[0m \u001b[43m    \u001b[49m\u001b[43maxis\u001b[49m\u001b[38;5;241;43m=\u001b[39;49m\u001b[38;5;28;43mself\u001b[39;49m\u001b[38;5;241;43m.\u001b[39;49m\u001b[43m_get_block_manager_axis\u001b[49m\u001b[43m(\u001b[49m\u001b[43maxis\u001b[49m\u001b[43m)\u001b[49m\u001b[43m,\u001b[49m\n\u001b[0;32m   4136\u001b[0m \u001b[43m    \u001b[49m\u001b[43mverify\u001b[49m\u001b[38;5;241;43m=\u001b[39;49m\u001b[38;5;28;43;01mTrue\u001b[39;49;00m\u001b[43m,\u001b[49m\n\u001b[0;32m   4137\u001b[0m \u001b[43m\u001b[49m\u001b[43m)\u001b[49m\n\u001b[0;32m   4138\u001b[0m \u001b[38;5;28;01mreturn\u001b[39;00m \u001b[38;5;28mself\u001b[39m\u001b[38;5;241m.\u001b[39m_constructor_from_mgr(new_data, axes\u001b[38;5;241m=\u001b[39mnew_data\u001b[38;5;241m.\u001b[39maxes)\u001b[38;5;241m.\u001b[39m__finalize__(\n\u001b[0;32m   4139\u001b[0m     \u001b[38;5;28mself\u001b[39m, method\u001b[38;5;241m=\u001b[39m\u001b[38;5;124m\"\u001b[39m\u001b[38;5;124mtake\u001b[39m\u001b[38;5;124m\"\u001b[39m\n\u001b[0;32m   4140\u001b[0m )\n",
      "File \u001b[1;32mc:\\Users\\vm2218\\AppData\\Local\\anaconda3\\envs\\SeaDucks\\Lib\\site-packages\\pandas\\core\\internals\\managers.py:894\u001b[0m, in \u001b[0;36mBaseBlockManager.take\u001b[1;34m(self, indexer, axis, verify)\u001b[0m\n\u001b[0;32m    891\u001b[0m indexer \u001b[38;5;241m=\u001b[39m maybe_convert_indices(indexer, n, verify\u001b[38;5;241m=\u001b[39mverify)\n\u001b[0;32m    893\u001b[0m new_labels \u001b[38;5;241m=\u001b[39m \u001b[38;5;28mself\u001b[39m\u001b[38;5;241m.\u001b[39maxes[axis]\u001b[38;5;241m.\u001b[39mtake(indexer)\n\u001b[1;32m--> 894\u001b[0m \u001b[38;5;28;01mreturn\u001b[39;00m \u001b[38;5;28;43mself\u001b[39;49m\u001b[38;5;241;43m.\u001b[39;49m\u001b[43mreindex_indexer\u001b[49m\u001b[43m(\u001b[49m\n\u001b[0;32m    895\u001b[0m \u001b[43m    \u001b[49m\u001b[43mnew_axis\u001b[49m\u001b[38;5;241;43m=\u001b[39;49m\u001b[43mnew_labels\u001b[49m\u001b[43m,\u001b[49m\n\u001b[0;32m    896\u001b[0m \u001b[43m    \u001b[49m\u001b[43mindexer\u001b[49m\u001b[38;5;241;43m=\u001b[39;49m\u001b[43mindexer\u001b[49m\u001b[43m,\u001b[49m\n\u001b[0;32m    897\u001b[0m \u001b[43m    \u001b[49m\u001b[43maxis\u001b[49m\u001b[38;5;241;43m=\u001b[39;49m\u001b[43maxis\u001b[49m\u001b[43m,\u001b[49m\n\u001b[0;32m    898\u001b[0m \u001b[43m    \u001b[49m\u001b[43mallow_dups\u001b[49m\u001b[38;5;241;43m=\u001b[39;49m\u001b[38;5;28;43;01mTrue\u001b[39;49;00m\u001b[43m,\u001b[49m\n\u001b[0;32m    899\u001b[0m \u001b[43m    \u001b[49m\u001b[43mcopy\u001b[49m\u001b[38;5;241;43m=\u001b[39;49m\u001b[38;5;28;43;01mNone\u001b[39;49;00m\u001b[43m,\u001b[49m\n\u001b[0;32m    900\u001b[0m \u001b[43m\u001b[49m\u001b[43m)\u001b[49m\n",
      "File \u001b[1;32mc:\\Users\\vm2218\\AppData\\Local\\anaconda3\\envs\\SeaDucks\\Lib\\site-packages\\pandas\\core\\internals\\managers.py:688\u001b[0m, in \u001b[0;36mBaseBlockManager.reindex_indexer\u001b[1;34m(self, new_axis, indexer, axis, fill_value, allow_dups, copy, only_slice, use_na_proxy)\u001b[0m\n\u001b[0;32m    680\u001b[0m     new_blocks \u001b[38;5;241m=\u001b[39m \u001b[38;5;28mself\u001b[39m\u001b[38;5;241m.\u001b[39m_slice_take_blocks_ax0(\n\u001b[0;32m    681\u001b[0m         indexer,\n\u001b[0;32m    682\u001b[0m         fill_value\u001b[38;5;241m=\u001b[39mfill_value,\n\u001b[0;32m    683\u001b[0m         only_slice\u001b[38;5;241m=\u001b[39monly_slice,\n\u001b[0;32m    684\u001b[0m         use_na_proxy\u001b[38;5;241m=\u001b[39muse_na_proxy,\n\u001b[0;32m    685\u001b[0m     )\n\u001b[0;32m    686\u001b[0m \u001b[38;5;28;01melse\u001b[39;00m:\n\u001b[0;32m    687\u001b[0m     new_blocks \u001b[38;5;241m=\u001b[39m [\n\u001b[1;32m--> 688\u001b[0m         \u001b[43mblk\u001b[49m\u001b[38;5;241;43m.\u001b[39;49m\u001b[43mtake_nd\u001b[49m\u001b[43m(\u001b[49m\n\u001b[0;32m    689\u001b[0m \u001b[43m            \u001b[49m\u001b[43mindexer\u001b[49m\u001b[43m,\u001b[49m\n\u001b[0;32m    690\u001b[0m \u001b[43m            \u001b[49m\u001b[43maxis\u001b[49m\u001b[38;5;241;43m=\u001b[39;49m\u001b[38;5;241;43m1\u001b[39;49m\u001b[43m,\u001b[49m\n\u001b[0;32m    691\u001b[0m \u001b[43m            \u001b[49m\u001b[43mfill_value\u001b[49m\u001b[38;5;241;43m=\u001b[39;49m\u001b[43m(\u001b[49m\n\u001b[0;32m    692\u001b[0m \u001b[43m                \u001b[49m\u001b[43mfill_value\u001b[49m\u001b[43m \u001b[49m\u001b[38;5;28;43;01mif\u001b[39;49;00m\u001b[43m \u001b[49m\u001b[43mfill_value\u001b[49m\u001b[43m \u001b[49m\u001b[38;5;129;43;01mis\u001b[39;49;00m\u001b[43m \u001b[49m\u001b[38;5;129;43;01mnot\u001b[39;49;00m\u001b[43m \u001b[49m\u001b[38;5;28;43;01mNone\u001b[39;49;00m\u001b[43m \u001b[49m\u001b[38;5;28;43;01melse\u001b[39;49;00m\u001b[43m \u001b[49m\u001b[43mblk\u001b[49m\u001b[38;5;241;43m.\u001b[39;49m\u001b[43mfill_value\u001b[49m\n\u001b[0;32m    693\u001b[0m \u001b[43m            \u001b[49m\u001b[43m)\u001b[49m\u001b[43m,\u001b[49m\n\u001b[0;32m    694\u001b[0m \u001b[43m        \u001b[49m\u001b[43m)\u001b[49m\n\u001b[0;32m    695\u001b[0m         \u001b[38;5;28;01mfor\u001b[39;00m blk \u001b[38;5;129;01min\u001b[39;00m \u001b[38;5;28mself\u001b[39m\u001b[38;5;241m.\u001b[39mblocks\n\u001b[0;32m    696\u001b[0m     ]\n\u001b[0;32m    698\u001b[0m new_axes \u001b[38;5;241m=\u001b[39m \u001b[38;5;28mlist\u001b[39m(\u001b[38;5;28mself\u001b[39m\u001b[38;5;241m.\u001b[39maxes)\n\u001b[0;32m    699\u001b[0m new_axes[axis] \u001b[38;5;241m=\u001b[39m new_axis\n",
      "File \u001b[1;32mc:\\Users\\vm2218\\AppData\\Local\\anaconda3\\envs\\SeaDucks\\Lib\\site-packages\\pandas\\core\\internals\\blocks.py:1307\u001b[0m, in \u001b[0;36mBlock.take_nd\u001b[1;34m(self, indexer, axis, new_mgr_locs, fill_value)\u001b[0m\n\u001b[0;32m   1304\u001b[0m     allow_fill \u001b[38;5;241m=\u001b[39m \u001b[38;5;28;01mTrue\u001b[39;00m\n\u001b[0;32m   1306\u001b[0m \u001b[38;5;66;03m# Note: algos.take_nd has upcast logic similar to coerce_to_target_dtype\u001b[39;00m\n\u001b[1;32m-> 1307\u001b[0m new_values \u001b[38;5;241m=\u001b[39m \u001b[43malgos\u001b[49m\u001b[38;5;241;43m.\u001b[39;49m\u001b[43mtake_nd\u001b[49m\u001b[43m(\u001b[49m\n\u001b[0;32m   1308\u001b[0m \u001b[43m    \u001b[49m\u001b[43mvalues\u001b[49m\u001b[43m,\u001b[49m\u001b[43m \u001b[49m\u001b[43mindexer\u001b[49m\u001b[43m,\u001b[49m\u001b[43m \u001b[49m\u001b[43maxis\u001b[49m\u001b[38;5;241;43m=\u001b[39;49m\u001b[43maxis\u001b[49m\u001b[43m,\u001b[49m\u001b[43m \u001b[49m\u001b[43mallow_fill\u001b[49m\u001b[38;5;241;43m=\u001b[39;49m\u001b[43mallow_fill\u001b[49m\u001b[43m,\u001b[49m\u001b[43m \u001b[49m\u001b[43mfill_value\u001b[49m\u001b[38;5;241;43m=\u001b[39;49m\u001b[43mfill_value\u001b[49m\n\u001b[0;32m   1309\u001b[0m \u001b[43m\u001b[49m\u001b[43m)\u001b[49m\n\u001b[0;32m   1311\u001b[0m \u001b[38;5;66;03m# Called from three places in managers, all of which satisfy\u001b[39;00m\n\u001b[0;32m   1312\u001b[0m \u001b[38;5;66;03m#  these assertions\u001b[39;00m\n\u001b[0;32m   1313\u001b[0m \u001b[38;5;28;01mif\u001b[39;00m \u001b[38;5;28misinstance\u001b[39m(\u001b[38;5;28mself\u001b[39m, ExtensionBlock):\n\u001b[0;32m   1314\u001b[0m     \u001b[38;5;66;03m# NB: in this case, the 'axis' kwarg will be ignored in the\u001b[39;00m\n\u001b[0;32m   1315\u001b[0m     \u001b[38;5;66;03m#  algos.take_nd call above.\u001b[39;00m\n",
      "File \u001b[1;32mc:\\Users\\vm2218\\AppData\\Local\\anaconda3\\envs\\SeaDucks\\Lib\\site-packages\\pandas\\core\\array_algos\\take.py:110\u001b[0m, in \u001b[0;36mtake_nd\u001b[1;34m(arr, indexer, axis, fill_value, allow_fill)\u001b[0m\n\u001b[0;32m    107\u001b[0m     \u001b[38;5;28;01mif\u001b[39;00m \u001b[38;5;129;01mnot\u001b[39;00m is_1d_only_ea_dtype(arr\u001b[38;5;241m.\u001b[39mdtype):\n\u001b[0;32m    108\u001b[0m         \u001b[38;5;66;03m# i.e. DatetimeArray, TimedeltaArray\u001b[39;00m\n\u001b[0;32m    109\u001b[0m         arr \u001b[38;5;241m=\u001b[39m cast(\u001b[38;5;124m\"\u001b[39m\u001b[38;5;124mNDArrayBackedExtensionArray\u001b[39m\u001b[38;5;124m\"\u001b[39m, arr)\n\u001b[1;32m--> 110\u001b[0m         \u001b[38;5;28;01mreturn\u001b[39;00m \u001b[43marr\u001b[49m\u001b[38;5;241;43m.\u001b[39;49m\u001b[43mtake\u001b[49m\u001b[43m(\u001b[49m\n\u001b[0;32m    111\u001b[0m \u001b[43m            \u001b[49m\u001b[43mindexer\u001b[49m\u001b[43m,\u001b[49m\u001b[43m \u001b[49m\u001b[43mfill_value\u001b[49m\u001b[38;5;241;43m=\u001b[39;49m\u001b[43mfill_value\u001b[49m\u001b[43m,\u001b[49m\u001b[43m \u001b[49m\u001b[43mallow_fill\u001b[49m\u001b[38;5;241;43m=\u001b[39;49m\u001b[43mallow_fill\u001b[49m\u001b[43m,\u001b[49m\u001b[43m \u001b[49m\u001b[43maxis\u001b[49m\u001b[38;5;241;43m=\u001b[39;49m\u001b[43maxis\u001b[49m\n\u001b[0;32m    112\u001b[0m \u001b[43m        \u001b[49m\u001b[43m)\u001b[49m\n\u001b[0;32m    114\u001b[0m     \u001b[38;5;28;01mreturn\u001b[39;00m arr\u001b[38;5;241m.\u001b[39mtake(indexer, fill_value\u001b[38;5;241m=\u001b[39mfill_value, allow_fill\u001b[38;5;241m=\u001b[39mallow_fill)\n\u001b[0;32m    116\u001b[0m arr \u001b[38;5;241m=\u001b[39m np\u001b[38;5;241m.\u001b[39masarray(arr)\n",
      "File \u001b[1;32mc:\\Users\\vm2218\\AppData\\Local\\anaconda3\\envs\\SeaDucks\\Lib\\site-packages\\pandas\\core\\arrays\\_mixins.py:168\u001b[0m, in \u001b[0;36mNDArrayBackedExtensionArray.take\u001b[1;34m(self, indices, allow_fill, fill_value, axis)\u001b[0m\n\u001b[0;32m    165\u001b[0m \u001b[38;5;28;01mif\u001b[39;00m allow_fill:\n\u001b[0;32m    166\u001b[0m     fill_value \u001b[38;5;241m=\u001b[39m \u001b[38;5;28mself\u001b[39m\u001b[38;5;241m.\u001b[39m_validate_scalar(fill_value)\n\u001b[1;32m--> 168\u001b[0m new_data \u001b[38;5;241m=\u001b[39m \u001b[43mtake\u001b[49m\u001b[43m(\u001b[49m\n\u001b[0;32m    169\u001b[0m \u001b[43m    \u001b[49m\u001b[38;5;28;43mself\u001b[39;49m\u001b[38;5;241;43m.\u001b[39;49m\u001b[43m_ndarray\u001b[49m\u001b[43m,\u001b[49m\n\u001b[0;32m    170\u001b[0m \u001b[43m    \u001b[49m\u001b[43mindices\u001b[49m\u001b[43m,\u001b[49m\n\u001b[0;32m    171\u001b[0m \u001b[43m    \u001b[49m\u001b[43mallow_fill\u001b[49m\u001b[38;5;241;43m=\u001b[39;49m\u001b[43mallow_fill\u001b[49m\u001b[43m,\u001b[49m\n\u001b[0;32m    172\u001b[0m \u001b[43m    \u001b[49m\u001b[43mfill_value\u001b[49m\u001b[38;5;241;43m=\u001b[39;49m\u001b[43mfill_value\u001b[49m\u001b[43m,\u001b[49m\n\u001b[0;32m    173\u001b[0m \u001b[43m    \u001b[49m\u001b[43maxis\u001b[49m\u001b[38;5;241;43m=\u001b[39;49m\u001b[43maxis\u001b[49m\u001b[43m,\u001b[49m\n\u001b[0;32m    174\u001b[0m \u001b[43m\u001b[49m\u001b[43m)\u001b[49m\n\u001b[0;32m    175\u001b[0m \u001b[38;5;28;01mreturn\u001b[39;00m \u001b[38;5;28mself\u001b[39m\u001b[38;5;241m.\u001b[39m_from_backing_data(new_data)\n",
      "File \u001b[1;32mc:\\Users\\vm2218\\AppData\\Local\\anaconda3\\envs\\SeaDucks\\Lib\\site-packages\\pandas\\core\\algorithms.py:1234\u001b[0m, in \u001b[0;36mtake\u001b[1;34m(arr, indices, axis, allow_fill, fill_value)\u001b[0m\n\u001b[0;32m   1231\u001b[0m \u001b[38;5;28;01mif\u001b[39;00m allow_fill:\n\u001b[0;32m   1232\u001b[0m     \u001b[38;5;66;03m# Pandas style, -1 means NA\u001b[39;00m\n\u001b[0;32m   1233\u001b[0m     validate_indices(indices, arr\u001b[38;5;241m.\u001b[39mshape[axis])\n\u001b[1;32m-> 1234\u001b[0m     result \u001b[38;5;241m=\u001b[39m \u001b[43mtake_nd\u001b[49m\u001b[43m(\u001b[49m\n\u001b[0;32m   1235\u001b[0m \u001b[43m        \u001b[49m\u001b[43marr\u001b[49m\u001b[43m,\u001b[49m\u001b[43m \u001b[49m\u001b[43mindices\u001b[49m\u001b[43m,\u001b[49m\u001b[43m \u001b[49m\u001b[43maxis\u001b[49m\u001b[38;5;241;43m=\u001b[39;49m\u001b[43maxis\u001b[49m\u001b[43m,\u001b[49m\u001b[43m \u001b[49m\u001b[43mallow_fill\u001b[49m\u001b[38;5;241;43m=\u001b[39;49m\u001b[38;5;28;43;01mTrue\u001b[39;49;00m\u001b[43m,\u001b[49m\u001b[43m \u001b[49m\u001b[43mfill_value\u001b[49m\u001b[38;5;241;43m=\u001b[39;49m\u001b[43mfill_value\u001b[49m\n\u001b[0;32m   1236\u001b[0m \u001b[43m    \u001b[49m\u001b[43m)\u001b[49m\n\u001b[0;32m   1237\u001b[0m \u001b[38;5;28;01melse\u001b[39;00m:\n\u001b[0;32m   1238\u001b[0m     \u001b[38;5;66;03m# NumPy style\u001b[39;00m\n\u001b[0;32m   1239\u001b[0m     result \u001b[38;5;241m=\u001b[39m arr\u001b[38;5;241m.\u001b[39mtake(indices, axis\u001b[38;5;241m=\u001b[39maxis)\n",
      "File \u001b[1;32mc:\\Users\\vm2218\\AppData\\Local\\anaconda3\\envs\\SeaDucks\\Lib\\site-packages\\pandas\\core\\array_algos\\take.py:117\u001b[0m, in \u001b[0;36mtake_nd\u001b[1;34m(arr, indexer, axis, fill_value, allow_fill)\u001b[0m\n\u001b[0;32m    114\u001b[0m     \u001b[38;5;28;01mreturn\u001b[39;00m arr\u001b[38;5;241m.\u001b[39mtake(indexer, fill_value\u001b[38;5;241m=\u001b[39mfill_value, allow_fill\u001b[38;5;241m=\u001b[39mallow_fill)\n\u001b[0;32m    116\u001b[0m arr \u001b[38;5;241m=\u001b[39m np\u001b[38;5;241m.\u001b[39masarray(arr)\n\u001b[1;32m--> 117\u001b[0m \u001b[38;5;28;01mreturn\u001b[39;00m \u001b[43m_take_nd_ndarray\u001b[49m\u001b[43m(\u001b[49m\u001b[43marr\u001b[49m\u001b[43m,\u001b[49m\u001b[43m \u001b[49m\u001b[43mindexer\u001b[49m\u001b[43m,\u001b[49m\u001b[43m \u001b[49m\u001b[43maxis\u001b[49m\u001b[43m,\u001b[49m\u001b[43m \u001b[49m\u001b[43mfill_value\u001b[49m\u001b[43m,\u001b[49m\u001b[43m \u001b[49m\u001b[43mallow_fill\u001b[49m\u001b[43m)\u001b[49m\n",
      "File \u001b[1;32mc:\\Users\\vm2218\\AppData\\Local\\anaconda3\\envs\\SeaDucks\\Lib\\site-packages\\pandas\\core\\array_algos\\take.py:157\u001b[0m, in \u001b[0;36m_take_nd_ndarray\u001b[1;34m(arr, indexer, axis, fill_value, allow_fill)\u001b[0m\n\u001b[0;32m    155\u001b[0m     out \u001b[38;5;241m=\u001b[39m np\u001b[38;5;241m.\u001b[39mempty(out_shape, dtype\u001b[38;5;241m=\u001b[39mdtype, order\u001b[38;5;241m=\u001b[39m\u001b[38;5;124m\"\u001b[39m\u001b[38;5;124mF\u001b[39m\u001b[38;5;124m\"\u001b[39m)\n\u001b[0;32m    156\u001b[0m \u001b[38;5;28;01melse\u001b[39;00m:\n\u001b[1;32m--> 157\u001b[0m     out \u001b[38;5;241m=\u001b[39m \u001b[43mnp\u001b[49m\u001b[38;5;241;43m.\u001b[39;49m\u001b[43mempty\u001b[49m\u001b[43m(\u001b[49m\u001b[43mout_shape\u001b[49m\u001b[43m,\u001b[49m\u001b[43m \u001b[49m\u001b[43mdtype\u001b[49m\u001b[38;5;241;43m=\u001b[39;49m\u001b[43mdtype\u001b[49m\u001b[43m)\u001b[49m\n\u001b[0;32m    159\u001b[0m func \u001b[38;5;241m=\u001b[39m _get_take_nd_function(\n\u001b[0;32m    160\u001b[0m     arr\u001b[38;5;241m.\u001b[39mndim, arr\u001b[38;5;241m.\u001b[39mdtype, out\u001b[38;5;241m.\u001b[39mdtype, axis\u001b[38;5;241m=\u001b[39maxis, mask_info\u001b[38;5;241m=\u001b[39mmask_info\n\u001b[0;32m    161\u001b[0m )\n\u001b[0;32m    162\u001b[0m func(arr, indexer, out, fill_value)\n",
      "\u001b[1;31mMemoryError\u001b[0m: Unable to allocate 126. MiB for an array with shape (16479740, 1) and data type datetime64[ns]"
     ]
    }
   ],
   "source": [
    "mahalanobis_per_config = point_analysis_data.apply(compute_mahalanobis)\n",
    "global_assumption_validation_by_replication['Mahalanobis Distance'] = mahalanobis_per_config"
   ]
  },
  {
   "cell_type": "code",
   "execution_count": null,
   "metadata": {},
   "outputs": [],
   "source": []
  }
 ],
 "metadata": {
  "kernelspec": {
   "display_name": "SeaDucks",
   "language": "python",
   "name": "python3"
  },
  "language_info": {
   "codemirror_mode": {
    "name": "ipython",
    "version": 3
   },
   "file_extension": ".py",
   "mimetype": "text/x-python",
   "name": "python",
   "nbconvert_exporter": "python",
   "pygments_lexer": "ipython3",
   "version": "3.12.3"
  }
 },
 "nbformat": 4,
 "nbformat_minor": 2
}
