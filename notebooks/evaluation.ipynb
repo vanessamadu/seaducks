{
 "cells": [
  {
   "cell_type": "code",
   "execution_count": 38,
   "metadata": {},
   "outputs": [],
   "source": [
    "# import modules\n",
    "import numpy as np\n",
    "import pickle\n",
    "import pandas as pd"
   ]
  },
  {
   "cell_type": "code",
   "execution_count": 39,
   "metadata": {},
   "outputs": [],
   "source": [
    "# initialisation (indexing for model retrieval)\n",
    "num_reps = 100\n",
    "config_ids = [36,37,38,39] # configuration ids of the optimal hyperparameter models\n",
    "replication_ids = {}\n",
    "failed_experiment_IDs = []\n",
    "\n",
    "for index, config_id in enumerate(config_ids):\n",
    "    experimentIDs = np.arange(index*num_reps+1,(index+1)*num_reps+1) # corresponding experiment IDs \n",
    "    # removing experiments that didn't run successfully\n",
    "    experimentIDs = np.delete(experimentIDs,failed_experiment_IDs)\n",
    "    replication_ids[config_id] = experimentIDs"
   ]
  },
  {
   "cell_type": "code",
   "execution_count": 40,
   "metadata": {},
   "outputs": [],
   "source": [
    "# load appropriate data and obtain samples\n",
    "\n",
    "# initialisation\n",
    "date = '2025-02-04'\n",
    "early_stopping = 100\n",
    "root_dir = r\"C:\\Users\\vm2218\\OneDrive - Imperial College London\\PhD Project\\seaducks\\experiments\\hpc_runs\\04-02-2025\\model_test_data\"\n",
    "root_dir_model = r\"C:\\Users\\vm2218\\OneDrive - Imperial College London\\PhD Project\\seaducks\\experiments\\hpc_runs\\04-02-2025\\fit_models\"\n",
    "file_name_prefix = \"long_experiment_\"\n",
    "file_name_suffix = f\"_date_{date}_early_stopping_{early_stopping}\""
   ]
  },
  {
   "cell_type": "code",
   "execution_count": 41,
   "metadata": {},
   "outputs": [],
   "source": [
    "return_variables = ['lon','lat','id','time','u','v','config_id','replication_id','mu_1','mu_2','sigma_11','sigma_22','sigma_12']\n",
    "testing_data = pd.DataFrame(columns=return_variables)"
   ]
  },
  {
   "cell_type": "code",
   "execution_count": 42,
   "metadata": {},
   "outputs": [
    {
     "name": "stderr",
     "output_type": "stream",
     "text": [
      "C:\\Users\\vm2218\\AppData\\Local\\Temp\\ipykernel_26340\\2865588473.py:14: FutureWarning: The behavior of DataFrame concatenation with empty or all-NA entries is deprecated. In a future version, this will no longer exclude empty or all-NA columns when determining the result dtypes. To retain the old behavior, exclude the relevant entries before the concat operation.\n",
      "  testing_data = pd.concat([testing_data,outvars],ignore_index=True)\n"
     ]
    }
   ],
   "source": [
    "for config_id in config_ids:\n",
    "    for ii in range(num_reps):\n",
    "        with open(fr'{root_dir}/{file_name_prefix}{replication_ids[config_id][ii]}{file_name_suffix}_test_data.p', 'rb') as pickle_file:\n",
    "                    data = pickle.load(pickle_file)\n",
    "                    data_df = data[0]\n",
    "                    means = data[1][0]\n",
    "                    covs = data[1][1]\n",
    "                    # adding info\n",
    "                    data_df['config_id'] = config_id\n",
    "                    data_df['replication_id'] = ii\n",
    "                    data_df['mu_1'], data_df['mu_2'] = means[:,0] , means[:,1] \n",
    "                    data_df['sigma_11'], data_df['sigma_22'], data_df['sigma_12'] = covs[:,0,0], covs[:,1,1], covs[:,0,1]\n",
    "                    outvars = data_df[return_variables]\n",
    "                    testing_data = pd.concat([testing_data,outvars],ignore_index=True)"
   ]
  },
  {
   "cell_type": "code",
   "execution_count": 43,
   "metadata": {},
   "outputs": [],
   "source": [
    "# add residuals\n",
    "testing_data['e_1'] = testing_data['u']-testing_data['mu_1']\n",
    "testing_data['e_2'] = testing_data['v']-testing_data['mu_2']"
   ]
  },
  {
   "cell_type": "code",
   "execution_count": 44,
   "metadata": {},
   "outputs": [],
   "source": [
    "# angle off-set\n",
    "testing_data['angle_offset'] = np.einsum('ij,ij->i',testing_data[['u','v']].values,testing_data[['mu_1','mu_2']].values)\n",
    "testing_data['angle_offset'] = np.divide(testing_data['angle_offset'], np.multiply(\n",
    "    np.linalg.norm(testing_data[['u','v']].values,axis=1),np.linalg.norm(testing_data[['mu_1','mu_2']].values,axis=1)\n",
    "    ))\n",
    "testing_data['angle_offset'] = np.clip(testing_data['angle_offset'],-1,1)\n",
    "testing_data['angle_offset'] = np.arccos(testing_data['angle_offset'])\n",
    "testing_data['angle_offset']=np.rad2deg(testing_data['angle_offset'])"
   ]
  },
  {
   "cell_type": "code",
   "execution_count": 10,
   "metadata": {},
   "outputs": [],
   "source": [
    "filehandler = open(f\"analysis_data.p\",\"wb\")\n",
    "pickle.dump(testing_data,filehandler,protocol=pickle.HIGHEST_PROTOCOL)"
   ]
  },
  {
   "cell_type": "markdown",
   "metadata": {},
   "source": [
    "# Global Evaluation"
   ]
  },
  {
   "cell_type": "markdown",
   "metadata": {},
   "source": [
    "## Point Metrics"
   ]
  },
  {
   "cell_type": "code",
   "execution_count": 77,
   "metadata": {},
   "outputs": [],
   "source": [
    "# group by configuration id\n",
    "point_analysis_data = testing_data.groupby(['config_id','replication_id'])[['lat','lon','id','time','u','v','config_id','replication_id','mu_1','mu_2','sigma_11','sigma_22','sigma_12','e_1','e_2','angle_offset']]"
   ]
  },
  {
   "cell_type": "markdown",
   "metadata": {},
   "source": [
    "### Metrics for each replication"
   ]
  },
  {
   "cell_type": "code",
   "execution_count": 126,
   "metadata": {},
   "outputs": [],
   "source": [
    "global_point_metrics_by_replication = pd.DataFrame(columns=['RMSE','MAE','MdAPE','MAAO'])"
   ]
  },
  {
   "cell_type": "code",
   "execution_count": 127,
   "metadata": {},
   "outputs": [],
   "source": [
    "# calculate rmse over all data points for each replication\n",
    "rmse_per_config = point_analysis_data.apply(lambda g: 100*np.sqrt(np.mean(g[\"e_1\"]**2 + g[\"e_2\"]**2)/2))\n",
    "global_point_metrics_by_replication['RMSE']=rmse_per_config"
   ]
  },
  {
   "cell_type": "code",
   "execution_count": 128,
   "metadata": {},
   "outputs": [],
   "source": [
    "# calculate mae over all data points for each replication\n",
    "mae_per_config = point_analysis_data.apply(lambda g: 100*np.mean(np.abs(g[\"e_1\"]) + np.abs(g[\"e_2\"]))/2)\n",
    "global_point_metrics_by_replication['MAE']=mae_per_config"
   ]
  },
  {
   "cell_type": "code",
   "execution_count": 129,
   "metadata": {},
   "outputs": [],
   "source": [
    "# calculate maao over all data points for each replication\n",
    "maao_per_config = point_analysis_data.apply(lambda g: np.mean(g['angle_offset']))\n",
    "global_point_metrics_by_replication['MAAO']=maao_per_config"
   ]
  },
  {
   "cell_type": "code",
   "execution_count": 130,
   "metadata": {},
   "outputs": [],
   "source": [
    "# calculate medAPE over all data points for each replication\n",
    "mdAPE_per_config = point_analysis_data.apply(lambda g: np.median([100*np.abs(g[\"e_1\"]/g[\"u\"]), 100*np.abs(g[\"e_2\"]/g[\"v\"])]))\n",
    "global_point_metrics_by_replication['MdAPE']=mdAPE_per_config"
   ]
  },
  {
   "cell_type": "code",
   "execution_count": 131,
   "metadata": {},
   "outputs": [],
   "source": [
    "global_point_metrics_by_replication_data = global_point_metrics_by_replication.groupby('config_id')[['RMSE','MAE','MdAPE','MAAO']]"
   ]
  },
  {
   "cell_type": "code",
   "execution_count": 136,
   "metadata": {},
   "outputs": [
    {
     "data": {
      "text/html": [
       "<div>\n",
       "<style scoped>\n",
       "    .dataframe tbody tr th:only-of-type {\n",
       "        vertical-align: middle;\n",
       "    }\n",
       "\n",
       "    .dataframe tbody tr th {\n",
       "        vertical-align: top;\n",
       "    }\n",
       "\n",
       "    .dataframe thead th {\n",
       "        text-align: right;\n",
       "    }\n",
       "</style>\n",
       "<table border=\"1\" class=\"dataframe\">\n",
       "  <thead>\n",
       "    <tr style=\"text-align: right;\">\n",
       "      <th></th>\n",
       "      <th></th>\n",
       "      <th>RMSE</th>\n",
       "      <th>MAE</th>\n",
       "      <th>MdAPE</th>\n",
       "      <th>MAAO</th>\n",
       "    </tr>\n",
       "    <tr>\n",
       "      <th>config_id</th>\n",
       "      <th>replication_id</th>\n",
       "      <th></th>\n",
       "      <th></th>\n",
       "      <th></th>\n",
       "      <th></th>\n",
       "    </tr>\n",
       "  </thead>\n",
       "  <tbody>\n",
       "    <tr>\n",
       "      <th rowspan=\"5\" valign=\"top\">36</th>\n",
       "      <th>0</th>\n",
       "      <td>14.637541</td>\n",
       "      <td>9.852936</td>\n",
       "      <td>66.080252</td>\n",
       "      <td>40.820104</td>\n",
       "    </tr>\n",
       "    <tr>\n",
       "      <th>1</th>\n",
       "      <td>14.723423</td>\n",
       "      <td>9.925735</td>\n",
       "      <td>65.559610</td>\n",
       "      <td>39.712297</td>\n",
       "    </tr>\n",
       "    <tr>\n",
       "      <th>2</th>\n",
       "      <td>14.562164</td>\n",
       "      <td>9.821444</td>\n",
       "      <td>65.194768</td>\n",
       "      <td>40.082736</td>\n",
       "    </tr>\n",
       "    <tr>\n",
       "      <th>3</th>\n",
       "      <td>15.107037</td>\n",
       "      <td>10.309083</td>\n",
       "      <td>66.898909</td>\n",
       "      <td>40.637668</td>\n",
       "    </tr>\n",
       "    <tr>\n",
       "      <th>4</th>\n",
       "      <td>14.428255</td>\n",
       "      <td>9.725741</td>\n",
       "      <td>67.619112</td>\n",
       "      <td>41.490144</td>\n",
       "    </tr>\n",
       "    <tr>\n",
       "      <th>...</th>\n",
       "      <th>...</th>\n",
       "      <td>...</td>\n",
       "      <td>...</td>\n",
       "      <td>...</td>\n",
       "      <td>...</td>\n",
       "    </tr>\n",
       "    <tr>\n",
       "      <th rowspan=\"5\" valign=\"top\">39</th>\n",
       "      <th>95</th>\n",
       "      <td>14.152587</td>\n",
       "      <td>9.649509</td>\n",
       "      <td>66.233602</td>\n",
       "      <td>40.071270</td>\n",
       "    </tr>\n",
       "    <tr>\n",
       "      <th>96</th>\n",
       "      <td>14.518828</td>\n",
       "      <td>9.820072</td>\n",
       "      <td>64.930363</td>\n",
       "      <td>39.732634</td>\n",
       "    </tr>\n",
       "    <tr>\n",
       "      <th>97</th>\n",
       "      <td>14.789399</td>\n",
       "      <td>9.990455</td>\n",
       "      <td>64.201933</td>\n",
       "      <td>39.491352</td>\n",
       "    </tr>\n",
       "    <tr>\n",
       "      <th>98</th>\n",
       "      <td>15.329971</td>\n",
       "      <td>10.304926</td>\n",
       "      <td>65.095423</td>\n",
       "      <td>40.107992</td>\n",
       "    </tr>\n",
       "    <tr>\n",
       "      <th>99</th>\n",
       "      <td>14.396832</td>\n",
       "      <td>9.812459</td>\n",
       "      <td>65.761084</td>\n",
       "      <td>40.445346</td>\n",
       "    </tr>\n",
       "  </tbody>\n",
       "</table>\n",
       "<p>400 rows × 4 columns</p>\n",
       "</div>"
      ],
      "text/plain": [
       "                               RMSE        MAE      MdAPE       MAAO\n",
       "config_id replication_id                                            \n",
       "36        0               14.637541   9.852936  66.080252  40.820104\n",
       "          1               14.723423   9.925735  65.559610  39.712297\n",
       "          2               14.562164   9.821444  65.194768  40.082736\n",
       "          3               15.107037  10.309083  66.898909  40.637668\n",
       "          4               14.428255   9.725741  67.619112  41.490144\n",
       "...                             ...        ...        ...        ...\n",
       "39        95              14.152587   9.649509  66.233602  40.071270\n",
       "          96              14.518828   9.820072  64.930363  39.732634\n",
       "          97              14.789399   9.990455  64.201933  39.491352\n",
       "          98              15.329971  10.304926  65.095423  40.107992\n",
       "          99              14.396832   9.812459  65.761084  40.445346\n",
       "\n",
       "[400 rows x 4 columns]"
      ]
     },
     "execution_count": 136,
     "metadata": {},
     "output_type": "execute_result"
    }
   ],
   "source": [
    "global_point_metrics_by_replication"
   ]
  },
  {
   "cell_type": "markdown",
   "metadata": {},
   "source": [
    "### Summary of Point Metrics"
   ]
  },
  {
   "cell_type": "code",
   "execution_count": 132,
   "metadata": {},
   "outputs": [],
   "source": [
    "global_point_metrics_summaries = pd.DataFrame(columns=['RMSE mean','RMSE std', 'MAE mean', 'MAE std','MdAPE mean', 'MdAPE std','MAAO mean', 'MAAO std'])"
   ]
  },
  {
   "cell_type": "code",
   "execution_count": 133,
   "metadata": {},
   "outputs": [],
   "source": [
    "point_metric_names = ['RMSE','MAE','MdAPE','MAAO']"
   ]
  },
  {
   "cell_type": "code",
   "execution_count": 134,
   "metadata": {},
   "outputs": [],
   "source": [
    "for name in point_metric_names:\n",
    "    mean = global_point_metrics_by_replication_data.apply(lambda g: np.mean(g[name]))\n",
    "    std = global_point_metrics_by_replication_data.apply(lambda g: np.std(g[name],ddof=1))\n",
    "    global_point_metrics_summaries[f'{name} mean']=mean\n",
    "    global_point_metrics_summaries[f'{name} std']=std"
   ]
  },
  {
   "cell_type": "code",
   "execution_count": 135,
   "metadata": {},
   "outputs": [
    {
     "data": {
      "text/html": [
       "<div>\n",
       "<style scoped>\n",
       "    .dataframe tbody tr th:only-of-type {\n",
       "        vertical-align: middle;\n",
       "    }\n",
       "\n",
       "    .dataframe tbody tr th {\n",
       "        vertical-align: top;\n",
       "    }\n",
       "\n",
       "    .dataframe thead th {\n",
       "        text-align: right;\n",
       "    }\n",
       "</style>\n",
       "<table border=\"1\" class=\"dataframe\">\n",
       "  <thead>\n",
       "    <tr style=\"text-align: right;\">\n",
       "      <th></th>\n",
       "      <th>RMSE mean</th>\n",
       "      <th>RMSE std</th>\n",
       "      <th>MAE mean</th>\n",
       "      <th>MAE std</th>\n",
       "      <th>MdAPE mean</th>\n",
       "      <th>MdAPE std</th>\n",
       "      <th>MAAO mean</th>\n",
       "      <th>MAAO std</th>\n",
       "    </tr>\n",
       "    <tr>\n",
       "      <th>config_id</th>\n",
       "      <th></th>\n",
       "      <th></th>\n",
       "      <th></th>\n",
       "      <th></th>\n",
       "      <th></th>\n",
       "      <th></th>\n",
       "      <th></th>\n",
       "      <th></th>\n",
       "    </tr>\n",
       "  </thead>\n",
       "  <tbody>\n",
       "    <tr>\n",
       "      <th>36</th>\n",
       "      <td>14.783894</td>\n",
       "      <td>0.459634</td>\n",
       "      <td>9.964375</td>\n",
       "      <td>0.303359</td>\n",
       "      <td>66.159957</td>\n",
       "      <td>0.948322</td>\n",
       "      <td>40.485154</td>\n",
       "      <td>0.708520</td>\n",
       "    </tr>\n",
       "    <tr>\n",
       "      <th>37</th>\n",
       "      <td>14.750128</td>\n",
       "      <td>0.460359</td>\n",
       "      <td>9.959707</td>\n",
       "      <td>0.302851</td>\n",
       "      <td>65.976940</td>\n",
       "      <td>0.941905</td>\n",
       "      <td>40.490486</td>\n",
       "      <td>0.722616</td>\n",
       "    </tr>\n",
       "    <tr>\n",
       "      <th>38</th>\n",
       "      <td>14.542571</td>\n",
       "      <td>0.454691</td>\n",
       "      <td>9.843939</td>\n",
       "      <td>0.300715</td>\n",
       "      <td>65.546610</td>\n",
       "      <td>0.955865</td>\n",
       "      <td>40.079249</td>\n",
       "      <td>0.715063</td>\n",
       "    </tr>\n",
       "    <tr>\n",
       "      <th>39</th>\n",
       "      <td>14.533736</td>\n",
       "      <td>0.456756</td>\n",
       "      <td>9.856823</td>\n",
       "      <td>0.302589</td>\n",
       "      <td>65.480731</td>\n",
       "      <td>0.920441</td>\n",
       "      <td>40.115957</td>\n",
       "      <td>0.714580</td>\n",
       "    </tr>\n",
       "  </tbody>\n",
       "</table>\n",
       "</div>"
      ],
      "text/plain": [
       "           RMSE mean  RMSE std  MAE mean   MAE std  MdAPE mean  MdAPE std  \\\n",
       "config_id                                                                   \n",
       "36         14.783894  0.459634  9.964375  0.303359   66.159957   0.948322   \n",
       "37         14.750128  0.460359  9.959707  0.302851   65.976940   0.941905   \n",
       "38         14.542571  0.454691  9.843939  0.300715   65.546610   0.955865   \n",
       "39         14.533736  0.456756  9.856823  0.302589   65.480731   0.920441   \n",
       "\n",
       "           MAAO mean  MAAO std  \n",
       "config_id                       \n",
       "36         40.485154  0.708520  \n",
       "37         40.490486  0.722616  \n",
       "38         40.079249  0.715063  \n",
       "39         40.115957  0.714580  "
      ]
     },
     "execution_count": 135,
     "metadata": {},
     "output_type": "execute_result"
    }
   ],
   "source": [
    "global_point_metrics_summaries"
   ]
  }
 ],
 "metadata": {
  "kernelspec": {
   "display_name": "SeaDucks",
   "language": "python",
   "name": "python3"
  },
  "language_info": {
   "codemirror_mode": {
    "name": "ipython",
    "version": 3
   },
   "file_extension": ".py",
   "mimetype": "text/x-python",
   "name": "python",
   "nbconvert_exporter": "python",
   "pygments_lexer": "ipython3",
   "version": "3.12.3"
  }
 },
 "nbformat": 4,
 "nbformat_minor": 2
}
