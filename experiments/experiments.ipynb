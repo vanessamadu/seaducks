{
 "cells": [
  {
   "cell_type": "markdown",
   "metadata": {},
   "source": [
    "MVN NGBoost experiments:\n",
    "\n",
    "Grid search over the following hyperparameters:\n",
    "* Learning rate, $\\eta$: $\\{0.01, 0.1, 0.5\\}$\n",
    "* Minimum data per leaf: $\\{1, 15, 32\\}$\n",
    "* Maximum leaves per branch: $\\{8, 15, 32, 64\\}$\n",
    "\n",
    "Fixed hyperparameters:\n",
    "* Maximum boosting iterations, $B = 1000$\n",
    "* Early stopping rounds: $50$\n",
    "* Maximum tree depth: $15$"
   ]
  },
  {
   "cell_type": "markdown",
   "metadata": {},
   "source": [
    "\n",
    "\n",
    "| Run ID | $\\eta$ | Min. leaf data | Max. leaves | Filename | Wall Time |\n",
    "| ------ | ------ | -------------- | ----------- | -------- | --------- |\n",
    "|        | 0.01   | 1              | 8           |          |           |\n",
    "|        |        | 15             |             |          |           |\n",
    "|        |        | 32             |             |          |           |\n",
    "|        |        | 1              | 15          |          |           |\n",
    "|        |        | 15             |             |          |           |\n",
    "|        |        | 32             |             |          |           |\n",
    "|        |        | 1              | 32          |          |           |\n",
    "|        |        | 15             |             |          |           |\n",
    "|        |        | 32             |             |          |           |\n",
    "|        |        | 1              | 64          |          |           |\n",
    "|        |        | 15             |             |          |           |\n",
    "|        |        | 32             |             |          |           |\n",
    "|        | 0.1    | 1              | 8           |          |           |\n",
    "|        |        | 15             |             |          |           |\n",
    "|        |        | 32             |             |          |           |\n",
    "|        |        | 1              | 15          |          |           |\n",
    "|        |        | 15             |             |          |           |\n",
    "|        |        | 32             |             |          |           |\n",
    "|        |        | 1              | 32          |          |           |\n",
    "|        |        | 15             |             |          |           |\n",
    "|        |        | 32             |             |          |           |\n",
    "|        |        | 1              | 64          |          |           |\n",
    "|        |        | 15             |             |          |           |\n",
    "|        |        | 32             |             |          |           |\n",
    "|        | 0.5    | 1              | 8           |          |           |\n",
    "|        |        | 15             |             |          |           |\n",
    "|        |        | 32             |             |          |           |\n",
    "|        |        | 1              | 15          |          |           |\n",
    "|        |        | 15             |             |          |           |\n",
    "|        |        | 32             |             |          |           |\n",
    "|        |        | 1              | 32          |          |           |\n",
    "|        |        | 15             |             |          |           |\n",
    "|        |        | 32             |             |          |           |\n",
    "|        |        | 1              | 64          |          |           |\n",
    "|        |        | 15             |             |          |           |\n",
    "|        |        | 32             |             |          |           |\n"
   ]
  }
 ],
 "metadata": {
  "language_info": {
   "name": "python"
  }
 },
 "nbformat": 4,
 "nbformat_minor": 2
}
